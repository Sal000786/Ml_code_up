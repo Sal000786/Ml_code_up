{
 "cells": [
  {
   "cell_type": "code",
   "execution_count": 1,
   "id": "833f7af7",
   "metadata": {},
   "outputs": [
    {
     "name": "stdout",
     "output_type": "stream",
     "text": [
      "\n",
      "Instances are:\n",
      " [['sunny' 'warm' 'normal' 'strong' 'warm' 'same']\n",
      " ['sunny' 'warm' 'high' 'strong' 'warm' 'same']\n",
      " ['rainy' 'cold' 'high' 'strong' 'warm' 'change']\n",
      " ['sunny' 'warm' 'high' 'strong' 'cool' 'change']]\n",
      "\n",
      "Target Values are:  ['yes' 'yes' 'no' 'yes']\n",
      "\n",
      "Initialization of specific_h and genearal_h\n",
      "\n",
      "Specific Boundary:  ['sunny' 'warm' 'normal' 'strong' 'warm' 'same']\n",
      "\n",
      "Generic Boundary:  [['?', '?', '?', '?', '?', '?'], ['?', '?', '?', '?', '?', '?'], ['?', '?', '?', '?', '?', '?'], ['?', '?', '?', '?', '?', '?'], ['?', '?', '?', '?', '?', '?'], ['?', '?', '?', '?', '?', '?']]\n",
      "\n",
      "Instance 1 is  ['sunny' 'warm' 'normal' 'strong' 'warm' 'same']\n",
      "Instance is Positive \n",
      "Specific Bundary after  1 Instance is  ['sunny' 'warm' 'normal' 'strong' 'warm' 'same']\n",
      "Generic Boundary after  1 Instance is  [['?', '?', '?', '?', '?', '?'], ['?', '?', '?', '?', '?', '?'], ['?', '?', '?', '?', '?', '?'], ['?', '?', '?', '?', '?', '?'], ['?', '?', '?', '?', '?', '?'], ['?', '?', '?', '?', '?', '?']]\n",
      "\n",
      "\n",
      "\n",
      "Instance 2 is  ['sunny' 'warm' 'high' 'strong' 'warm' 'same']\n",
      "Instance is Positive \n",
      "Specific Bundary after  2 Instance is  ['sunny' 'warm' '?' 'strong' 'warm' 'same']\n",
      "Generic Boundary after  2 Instance is  [['?', '?', '?', '?', '?', '?'], ['?', '?', '?', '?', '?', '?'], ['?', '?', '?', '?', '?', '?'], ['?', '?', '?', '?', '?', '?'], ['?', '?', '?', '?', '?', '?'], ['?', '?', '?', '?', '?', '?']]\n",
      "\n",
      "\n",
      "\n",
      "Instance 3 is  ['rainy' 'cold' 'high' 'strong' 'warm' 'change']\n",
      "Instance is Negative \n",
      "Specific Bundary after  3 Instance is  ['sunny' 'warm' '?' 'strong' 'warm' 'same']\n",
      "Generic Boundary after  3 Instance is  [['sunny', '?', '?', '?', '?', '?'], ['?', 'warm', '?', '?', '?', '?'], ['?', '?', '?', '?', '?', '?'], ['?', '?', '?', '?', '?', '?'], ['?', '?', '?', '?', '?', '?'], ['?', '?', '?', '?', '?', 'same']]\n",
      "\n",
      "\n",
      "\n",
      "Instance 4 is  ['sunny' 'warm' 'high' 'strong' 'cool' 'change']\n",
      "Instance is Positive \n",
      "Specific Bundary after  4 Instance is  ['sunny' 'warm' '?' 'strong' '?' '?']\n",
      "Generic Boundary after  4 Instance is  [['sunny', '?', '?', '?', '?', '?'], ['?', 'warm', '?', '?', '?', '?'], ['?', '?', '?', '?', '?', '?'], ['?', '?', '?', '?', '?', '?'], ['?', '?', '?', '?', '?', '?'], ['?', '?', '?', '?', '?', '?']]\n",
      "\n",
      "\n",
      "Final Specific_h: \n",
      "['sunny' 'warm' '?' 'strong' '?' '?']\n",
      "Final General_h: \n",
      "[['sunny', '?', '?', '?', '?', '?'], ['?', 'warm', '?', '?', '?', '?']]\n"
     ]
    }
   ],
   "source": [
    "import numpy as np \n",
    "import pandas as pd\n",
    "\n",
    "data = pd.read_csv(\"C:\\\\Users\\\\salma\\\\OneDrive\\\\Documents\\\\Data_set2.csv\")\n",
    "concepts = np.array(data.iloc[:,0:-1])\n",
    "print(\"\\nInstances are:\\n\",concepts)\n",
    "target = np.array(data.iloc[:,-1])\n",
    "print(\"\\nTarget Values are: \",target)\n",
    "\n",
    "def learn(concepts, target): \n",
    "    specific_h = concepts[0].copy()\n",
    "    print(\"\\nInitialization of specific_h and genearal_h\")\n",
    "    print(\"\\nSpecific Boundary: \", specific_h)\n",
    "    general_h = [[\"?\" for i in range(len(specific_h))] for i in range(len(specific_h))]\n",
    "    print(\"\\nGeneric Boundary: \",general_h)  \n",
    " \n",
    "    for i, h in enumerate(concepts):\n",
    "        print(\"\\nInstance\", i+1 , \"is \", h)\n",
    "        if target[i] == \"yes\":\n",
    "            print(\"Instance is Positive \")\n",
    "            for x in range(len(specific_h)): \n",
    "                if h[x]!= specific_h[x]:                    \n",
    "                    specific_h[x] ='?'                     \n",
    "                    general_h[x][x] ='?'\n",
    "                   \n",
    "        if target[i] == \"no\":            \n",
    "            print(\"Instance is Negative \")\n",
    "            for x in range(len(specific_h)): \n",
    "                if h[x]!= specific_h[x]:                    \n",
    "                    general_h[x][x] = specific_h[x]                \n",
    "                else:                    \n",
    "                    general_h[x][x] = '?'  \n",
    "        \n",
    "        print(\"Specific Bundary after \", i+1, \"Instance is \", specific_h)         \n",
    "        print(\"Generic Boundary after \", i+1, \"Instance is \", general_h)\n",
    "        print(\"\\n\")\n",
    "\n",
    "    indices = [i for i, val in enumerate(general_h) if val == ['?', '?', '?', '?', '?', '?']]    \n",
    "    for i in indices:   \n",
    "        general_h.remove(['?', '?', '?', '?', '?', '?']) \n",
    "    return specific_h, general_h \n",
    "\n",
    "s_final, g_final = learn(concepts, target)\n",
    "\n",
    "print(\"Final Specific_h: \", s_final, sep=\"\\n\")\n",
    "print(\"Final General_h: \", g_final, sep=\"\\n\")"
   ]
  },
  {
   "cell_type": "code",
   "execution_count": null,
   "id": "23f9f2fe",
   "metadata": {},
   "outputs": [],
   "source": []
  },
  {
   "cell_type": "code",
   "execution_count": null,
   "id": "791d42fa",
   "metadata": {},
   "outputs": [],
   "source": []
  },
  {
   "cell_type": "code",
   "execution_count": 36,
   "id": "776d3a48",
   "metadata": {},
   "outputs": [],
   "source": [
    "import numpy as np\n",
    "import pandas as pd\n"
   ]
  },
  {
   "cell_type": "code",
   "execution_count": 37,
   "id": "82df9e9d",
   "metadata": {},
   "outputs": [
    {
     "data": {
      "text/html": [
       "<div>\n",
       "<style scoped>\n",
       "    .dataframe tbody tr th:only-of-type {\n",
       "        vertical-align: middle;\n",
       "    }\n",
       "\n",
       "    .dataframe tbody tr th {\n",
       "        vertical-align: top;\n",
       "    }\n",
       "\n",
       "    .dataframe thead th {\n",
       "        text-align: right;\n",
       "    }\n",
       "</style>\n",
       "<table border=\"1\" class=\"dataframe\">\n",
       "  <thead>\n",
       "    <tr style=\"text-align: right;\">\n",
       "      <th></th>\n",
       "      <th>sky</th>\n",
       "      <th>airtemp</th>\n",
       "      <th>humidity</th>\n",
       "      <th>wind</th>\n",
       "      <th>water</th>\n",
       "      <th>forest</th>\n",
       "      <th>enjoysport</th>\n",
       "    </tr>\n",
       "  </thead>\n",
       "  <tbody>\n",
       "    <tr>\n",
       "      <th>0</th>\n",
       "      <td>sunny</td>\n",
       "      <td>warm</td>\n",
       "      <td>normal</td>\n",
       "      <td>strong</td>\n",
       "      <td>warm</td>\n",
       "      <td>same</td>\n",
       "      <td>yes</td>\n",
       "    </tr>\n",
       "    <tr>\n",
       "      <th>1</th>\n",
       "      <td>sunny</td>\n",
       "      <td>warm</td>\n",
       "      <td>high</td>\n",
       "      <td>strong</td>\n",
       "      <td>warm</td>\n",
       "      <td>same</td>\n",
       "      <td>yes</td>\n",
       "    </tr>\n",
       "    <tr>\n",
       "      <th>2</th>\n",
       "      <td>rainy</td>\n",
       "      <td>cold</td>\n",
       "      <td>high</td>\n",
       "      <td>strong</td>\n",
       "      <td>warm</td>\n",
       "      <td>change</td>\n",
       "      <td>no</td>\n",
       "    </tr>\n",
       "    <tr>\n",
       "      <th>3</th>\n",
       "      <td>sunny</td>\n",
       "      <td>warm</td>\n",
       "      <td>high</td>\n",
       "      <td>strong</td>\n",
       "      <td>cool</td>\n",
       "      <td>change</td>\n",
       "      <td>yes</td>\n",
       "    </tr>\n",
       "  </tbody>\n",
       "</table>\n",
       "</div>"
      ],
      "text/plain": [
       "     sky airtemp humidity    wind water  forest enjoysport\n",
       "0  sunny    warm   normal  strong  warm    same        yes\n",
       "1  sunny    warm     high  strong  warm    same        yes\n",
       "2  rainy    cold     high  strong  warm  change         no\n",
       "3  sunny    warm     high  strong  cool  change        yes"
      ]
     },
     "execution_count": 37,
     "metadata": {},
     "output_type": "execute_result"
    }
   ],
   "source": [
    "data=pd.read_csv(\"C:\\\\Users\\\\salma\\\\OneDrive\\\\Documents\\\\Data_set2.csv\")\n",
    "data"
   ]
  },
  {
   "cell_type": "code",
   "execution_count": 38,
   "id": "eca3aba1",
   "metadata": {},
   "outputs": [
    {
     "name": "stdout",
     "output_type": "stream",
     "text": [
      "instance are [['sunny' 'warm' 'normal' 'strong' 'warm' 'same']\n",
      " ['sunny' 'warm' 'high' 'strong' 'warm' 'same']\n",
      " ['rainy' 'cold' 'high' 'strong' 'warm' 'change']\n",
      " ['sunny' 'warm' 'high' 'strong' 'cool' 'change']]\n"
     ]
    }
   ],
   "source": [
    "concept=np.array(data.iloc[ :,0:-1])\n",
    "print(\"instance are\",concept)"
   ]
  },
  {
   "cell_type": "code",
   "execution_count": 41,
   "id": "201e8646",
   "metadata": {},
   "outputs": [
    {
     "name": "stdout",
     "output_type": "stream",
     "text": [
      "target is  ['yes' 'yes' 'no' 'yes']\n"
     ]
    }
   ],
   "source": [
    "target=np.array(data.iloc[:,-1])\n",
    "print('target is ', target)"
   ]
  },
  {
   "cell_type": "code",
   "execution_count": 25,
   "id": "7e8d8b36",
   "metadata": {},
   "outputs": [
    {
     "name": "stdout",
     "output_type": "stream",
     "text": [
      "specific hypothesis is: ['sunny' 'warm' 'normal' 'strong' 'warm' 'same']\n"
     ]
    }
   ],
   "source": []
  },
  {
   "cell_type": "code",
   "execution_count": 26,
   "id": "dbb54f43",
   "metadata": {},
   "outputs": [
    {
     "data": {
      "text/plain": [
       "[['?', '?', '?', '?', '?', '?'],\n",
       " ['?', '?', '?', '?', '?', '?'],\n",
       " ['?', '?', '?', '?', '?', '?'],\n",
       " ['?', '?', '?', '?', '?', '?'],\n",
       " ['?', '?', '?', '?', '?', '?'],\n",
       " ['?', '?', '?', '?', '?', '?']]"
      ]
     },
     "execution_count": 26,
     "metadata": {},
     "output_type": "execute_result"
    }
   ],
   "source": []
  },
  {
   "cell_type": "code",
   "execution_count": 42,
   "id": "62e367a0",
   "metadata": {},
   "outputs": [
    {
     "name": "stdout",
     "output_type": "stream",
     "text": [
      "specific hypothesis is: ['sunny' 'warm' 'normal' 'strong' 'warm' 'same']\n",
      "[['?', '?', '?', '?', '?', '?'], ['?', '?', '?', '?', '?', '?'], ['?', '?', '?', '?', '?', '?'], ['?', '?', '?', '?', '?', '?'], ['?', '?', '?', '?', '?', '?'], ['?', '?', '?', '?', '?', '?']]\n",
      "instance  1 is  ['sunny' 'warm' 'normal' 'strong' 'warm' 'same']\n",
      "instance is positive\n",
      "specific boundary after 1 instances is ['sunny' 'warm' 'normal' 'strong' 'warm' 'same']\n",
      "general boundary after  1 instances is [['?', '?', '?', '?', '?', '?'], ['?', '?', '?', '?', '?', '?'], ['?', '?', '?', '?', '?', '?'], ['?', '?', '?', '?', '?', '?'], ['?', '?', '?', '?', '?', '?'], ['?', '?', '?', '?', '?', '?']]\n",
      "\n",
      "\n",
      "instance  2 is  ['sunny' 'warm' 'high' 'strong' 'warm' 'same']\n",
      "instance is positive\n",
      "specific boundary after 2 instances is ['sunny' 'warm' '?' 'strong' 'warm' 'same']\n",
      "general boundary after  2 instances is [['?', '?', '?', '?', '?', '?'], ['?', '?', '?', '?', '?', '?'], ['?', '?', '?', '?', '?', '?'], ['?', '?', '?', '?', '?', '?'], ['?', '?', '?', '?', '?', '?'], ['?', '?', '?', '?', '?', '?']]\n",
      "\n",
      "\n",
      "instance  3 is  ['rainy' 'cold' 'high' 'strong' 'warm' 'change']\n",
      "instance is negative\n",
      "specific boundary after 3 instances is ['sunny' 'warm' '?' 'strong' 'warm' 'same']\n",
      "general boundary after  3 instances is [['sunny', '?', '?', '?', '?', '?'], ['?', 'warm', '?', '?', '?', '?'], ['?', '?', '?', '?', '?', '?'], ['?', '?', '?', '?', '?', '?'], ['?', '?', '?', '?', '?', '?'], ['?', '?', '?', '?', '?', 'same']]\n",
      "\n",
      "\n",
      "instance  4 is  ['sunny' 'warm' 'high' 'strong' 'cool' 'change']\n",
      "instance is positive\n",
      "specific boundary after 4 instances is ['sunny' 'warm' '?' 'strong' '?' '?']\n",
      "general boundary after  4 instances is [['sunny', '?', '?', '?', '?', '?'], ['?', 'warm', '?', '?', '?', '?'], ['?', '?', '?', '?', '?', '?'], ['?', '?', '?', '?', '?', '?'], ['?', '?', '?', '?', '?', '?'], ['?', '?', '?', '?', '?', '?']]\n",
      "\n",
      "\n",
      "Final Specific_h: \n",
      "['sunny' 'warm' '?' 'strong' '?' '?']\n",
      "Final General_h: \n",
      "[['sunny', '?', '?', '?', '?', '?'], ['?', 'warm', '?', '?', '?', '?']]\n"
     ]
    }
   ],
   "source": [
    "def learn(concept,target):\n",
    "    specific_hypothesis=concept[0].copy()\n",
    "    print(\"specific hypothesis is:\",specific_hypothesis)\n",
    "    general_hypothesis=[[\"?\" for i in range(len(specific_hypothesis))] for i in range(len(specific_hypothesis))]\n",
    "    print(general_hypothesis)\n",
    "    for i,h in enumerate(concept):\n",
    "        print(\"instance \",i+1,\"is \",h)\n",
    "        if(target[i]==\"yes\"):\n",
    "            print(\"instance is positive\")\n",
    "            for x in range(len(specific_hypothesis)):\n",
    "                if h[x]!=specific_hypothesis[x]:\n",
    "                    specific_hypothesis[x]=\"?\"\n",
    "                    general_hypothesis[x][x]=\"?\"\n",
    "\n",
    "        if(target[i]==\"no\"):\n",
    "            print(\"instance is negative\")\n",
    "            for x in range(len(specific_hypothesis)):\n",
    "                if h[x]!=specific_hypothesis[x]:\n",
    "                    general_hypothesis[x][x]=specific_hypothesis[x]\n",
    "                else:\n",
    "                    general_hypothesis[x][x]=\"?\"\n",
    "                        \n",
    "                        \n",
    "        print(\"specific boundary after\",i+1,\"instances is\",specific_hypothesis)\n",
    "        print(\"general boundary after \",i+1,\"instances is\",general_hypothesis)\n",
    "        print(\"\\n\")\n",
    "#             print(\"Specific Bundary after \", i+1, \"Instance is \", specific_h)         \n",
    "#         print(\"Generic Boundary after \", i+1, \"Instance is \", general_h)\n",
    "#         print(\"\\n\")\n",
    "\n",
    "    indices = [i for i, val in enumerate(general_hypothesis) if val == ['?', '?', '?', '?', '?', '?']]    \n",
    "    for i in indices:   \n",
    "        general_hypothesis.remove(['?', '?', '?', '?', '?', '?']) \n",
    "    return specific_hypothesis, general_hypothesis \n",
    "\n",
    "s_final, g_final =learn(concept,target)\n",
    "\n",
    "print(\"Final Specific_h: \", s_final, sep=\"\\n\")\n",
    "print(\"Final General_h: \", g_final, sep=\"\\n\")\n",
    "# learn(concept,target)\n",
    "\n",
    "        \n",
    "    "
   ]
  },
  {
   "cell_type": "code",
   "execution_count": 30,
   "id": "8853b190",
   "metadata": {},
   "outputs": [
    {
     "name": "stdout",
     "output_type": "stream",
     "text": [
      "salmab\n"
     ]
    }
   ],
   "source": [
    "print(\"salmab\")"
   ]
  },
  {
   "cell_type": "code",
   "execution_count": null,
   "id": "156c142e",
   "metadata": {},
   "outputs": [],
   "source": []
  },
  {
   "cell_type": "markdown",
   "id": "684edeef",
   "metadata": {},
   "source": [
    "# candidate elimination algorithm practice\n"
   ]
  },
  {
   "cell_type": "code",
   "execution_count": 96,
   "id": "7625094f",
   "metadata": {},
   "outputs": [],
   "source": [
    "import numpy as np\n",
    "import pandas as pd\n"
   ]
  },
  {
   "cell_type": "code",
   "execution_count": 97,
   "id": "9318759b",
   "metadata": {},
   "outputs": [
    {
     "data": {
      "text/html": [
       "<div>\n",
       "<style scoped>\n",
       "    .dataframe tbody tr th:only-of-type {\n",
       "        vertical-align: middle;\n",
       "    }\n",
       "\n",
       "    .dataframe tbody tr th {\n",
       "        vertical-align: top;\n",
       "    }\n",
       "\n",
       "    .dataframe thead th {\n",
       "        text-align: right;\n",
       "    }\n",
       "</style>\n",
       "<table border=\"1\" class=\"dataframe\">\n",
       "  <thead>\n",
       "    <tr style=\"text-align: right;\">\n",
       "      <th></th>\n",
       "      <th>sky</th>\n",
       "      <th>airtemp</th>\n",
       "      <th>humidity</th>\n",
       "      <th>wind</th>\n",
       "      <th>water</th>\n",
       "      <th>forest</th>\n",
       "      <th>enjoysport</th>\n",
       "    </tr>\n",
       "  </thead>\n",
       "  <tbody>\n",
       "    <tr>\n",
       "      <th>0</th>\n",
       "      <td>sunny</td>\n",
       "      <td>warm</td>\n",
       "      <td>normal</td>\n",
       "      <td>strong</td>\n",
       "      <td>warm</td>\n",
       "      <td>same</td>\n",
       "      <td>yes</td>\n",
       "    </tr>\n",
       "    <tr>\n",
       "      <th>1</th>\n",
       "      <td>sunny</td>\n",
       "      <td>warm</td>\n",
       "      <td>high</td>\n",
       "      <td>strong</td>\n",
       "      <td>warm</td>\n",
       "      <td>same</td>\n",
       "      <td>yes</td>\n",
       "    </tr>\n",
       "    <tr>\n",
       "      <th>2</th>\n",
       "      <td>rainy</td>\n",
       "      <td>cold</td>\n",
       "      <td>high</td>\n",
       "      <td>strong</td>\n",
       "      <td>warm</td>\n",
       "      <td>change</td>\n",
       "      <td>no</td>\n",
       "    </tr>\n",
       "    <tr>\n",
       "      <th>3</th>\n",
       "      <td>sunny</td>\n",
       "      <td>warm</td>\n",
       "      <td>high</td>\n",
       "      <td>strong</td>\n",
       "      <td>cool</td>\n",
       "      <td>change</td>\n",
       "      <td>yes</td>\n",
       "    </tr>\n",
       "  </tbody>\n",
       "</table>\n",
       "</div>"
      ],
      "text/plain": [
       "     sky airtemp humidity    wind water  forest enjoysport\n",
       "0  sunny    warm   normal  strong  warm    same        yes\n",
       "1  sunny    warm     high  strong  warm    same        yes\n",
       "2  rainy    cold     high  strong  warm  change         no\n",
       "3  sunny    warm     high  strong  cool  change        yes"
      ]
     },
     "execution_count": 97,
     "metadata": {},
     "output_type": "execute_result"
    }
   ],
   "source": [
    "data=pd.read_csv(\"C:\\\\Users\\\\salma\\\\OneDrive\\\\Documents\\\\Data_set2.csv\")\n",
    "data"
   ]
  },
  {
   "cell_type": "code",
   "execution_count": 98,
   "id": "eca140d2",
   "metadata": {},
   "outputs": [
    {
     "data": {
      "text/plain": [
       "array([['sunny', 'warm', 'normal', 'strong', 'warm', 'same'],\n",
       "       ['sunny', 'warm', 'high', 'strong', 'warm', 'same'],\n",
       "       ['rainy', 'cold', 'high', 'strong', 'warm', 'change'],\n",
       "       ['sunny', 'warm', 'high', 'strong', 'cool', 'change']],\n",
       "      dtype=object)"
      ]
     },
     "execution_count": 98,
     "metadata": {},
     "output_type": "execute_result"
    }
   ],
   "source": [
    "concept=np.array(data.iloc[: ,:-1])\n",
    "concept"
   ]
  },
  {
   "cell_type": "code",
   "execution_count": 99,
   "id": "de9ef094",
   "metadata": {},
   "outputs": [
    {
     "data": {
      "text/plain": [
       "array(['yes', 'yes', 'no', 'yes'], dtype=object)"
      ]
     },
     "execution_count": 99,
     "metadata": {},
     "output_type": "execute_result"
    }
   ],
   "source": [
    "target=np.array(data.iloc[::,-1])\n",
    "target"
   ]
  },
  {
   "cell_type": "code",
   "execution_count": 103,
   "id": "cab1349b",
   "metadata": {},
   "outputs": [
    {
     "name": "stdout",
     "output_type": "stream",
     "text": [
      "specific_hypothesis is:  ['sunny' 'warm' 'normal' 'strong' 'warm' 'same']\n",
      "general hypothesis is:  [['?', '?', '?', '?', '?', '?'], ['?', '?', '?', '?', '?', '?'], ['?', '?', '?', '?', '?', '?'], ['?', '?', '?', '?', '?', '?'], ['?', '?', '?', '?', '?', '?'], ['?', '?', '?', '?', '?', '?']]\n",
      "instance  1 is ['sunny' 'warm' 'normal' 'strong' 'warm' 'same']\n",
      "Instance is positive\n",
      "specific_boundary after 1 is  ['sunny' 'warm' 'normal' 'strong' 'warm' 'same']\n",
      "general_boundary after 1 is [['?', '?', '?', '?', '?', '?'], ['?', '?', '?', '?', '?', '?'], ['?', '?', '?', '?', '?', '?'], ['?', '?', '?', '?', '?', '?'], ['?', '?', '?', '?', '?', '?'], ['?', '?', '?', '?', '?', '?']]\n",
      "instance  2 is ['sunny' 'warm' 'high' 'strong' 'warm' 'same']\n",
      "Instance is positive\n",
      "specific_boundary after 2 is  ['sunny' 'warm' '?' 'strong' 'warm' 'same']\n",
      "general_boundary after 2 is [['?', '?', '?', '?', '?', '?'], ['?', '?', '?', '?', '?', '?'], ['?', '?', '?', '?', '?', '?'], ['?', '?', '?', '?', '?', '?'], ['?', '?', '?', '?', '?', '?'], ['?', '?', '?', '?', '?', '?']]\n",
      "instance  3 is ['rainy' 'cold' 'high' 'strong' 'warm' 'change']\n",
      "Instance is negative\n",
      "specific_boundary after 3 is  ['sunny' 'warm' '?' 'strong' 'warm' 'same']\n",
      "general_boundary after 3 is [['sunny', '?', '?', '?', '?', '?'], ['?', 'warm', '?', '?', '?', '?'], ['?', '?', '?', '?', '?', '?'], ['?', '?', '?', '?', '?', '?'], ['?', '?', '?', '?', '?', '?'], ['?', '?', '?', '?', '?', 'same']]\n",
      "instance  4 is ['sunny' 'warm' 'high' 'strong' 'cool' 'change']\n",
      "Instance is positive\n",
      "specific_boundary after 4 is  ['sunny' 'warm' '?' 'strong' '?' '?']\n",
      "general_boundary after 4 is [['sunny', '?', '?', '?', '?', '?'], ['?', 'warm', '?', '?', '?', '?'], ['?', '?', '?', '?', '?', '?'], ['?', '?', '?', '?', '?', '?'], ['?', '?', '?', '?', '?', '?'], ['?', '?', '?', '?', '?', '?']]\n",
      "Final Specific_h: \n",
      "['sunny' 'warm' '?' 'strong' '?' '?']\n",
      "Final General_h: \n",
      "[['sunny', '?', '?', '?', '?', '?'], ['?', 'warm', '?', '?', '?', '?']]\n"
     ]
    }
   ],
   "source": [
    "def learn(concept,target):\n",
    "    specific_hypothesis=concept[0].copy()\n",
    "    print(\"specific_hypothesis is: \",specific_hypothesis)\n",
    "    general_hypothesis=[[\"?\" for i in range(len(specific_hypothesis))] for i in range(len(specific_hypothesis))]\n",
    "    print(\"general hypothesis is: \",general_hypothesis)\n",
    "    \n",
    "    for i,h in enumerate(concept):\n",
    "        print(\"instance \",i+1,\"is\",h)\n",
    "        if(target[i]==\"yes\"):\n",
    "            print(\"Instance is positive\")\n",
    "            for x in range(len(specific_hypothesis)):\n",
    "                if(h[x]!=specific_hypothesis[x]):\n",
    "                    specific_hypothesis[x]=\"?\"\n",
    "                    general_hypothesis[x][x]=\"?\"\n",
    "        if(target[i]==\"no\"):\n",
    "            print(\"Instance is negative\")\n",
    "            for x in range(len(specific_hypothesis)):\n",
    "                if(h[x]!=specific_hypothesis[x]):\n",
    "                    general_hypothesis[x][x]=specific_hypothesis[x]\n",
    "                else:\n",
    "                    general_hypothesis[x][x]=\"?\"\n",
    "        print(\"specific_boundary after\",i+1,\"is \",specific_hypothesis)\n",
    "        print(\"general_boundary after\",i+1,\"is\",general_hypothesis)\n",
    "    indices = [i for i, val in enumerate(general_hypothesis) if val == ['?', '?', '?', '?', '?', '?']]    \n",
    "    for i in indices:   \n",
    "        general_hypothesis.remove(['?', '?', '?', '?', '?', '?']) \n",
    "    return specific_hypothesis, general_hypothesis \n",
    "\n",
    "s_final, g_final =learn(concept,target)\n",
    "\n",
    "print(\"Final Specific_h: \", s_final, sep=\"\\n\")\n",
    "print(\"Final General_h: \", g_final, sep=\"\\n\")\n",
    "        \n",
    "# learn(concept,target)\n"
   ]
  },
  {
   "cell_type": "code",
   "execution_count": null,
   "id": "5d1413b2",
   "metadata": {},
   "outputs": [],
   "source": []
  },
  {
   "cell_type": "code",
   "execution_count": null,
   "id": "cdb6b004",
   "metadata": {},
   "outputs": [],
   "source": []
  }
 ],
 "metadata": {
  "kernelspec": {
   "display_name": "Python 3",
   "language": "python",
   "name": "python3"
  },
  "language_info": {
   "codemirror_mode": {
    "name": "ipython",
    "version": 3
   },
   "file_extension": ".py",
   "mimetype": "text/x-python",
   "name": "python",
   "nbconvert_exporter": "python",
   "pygments_lexer": "ipython3",
   "version": "3.8.8"
  }
 },
 "nbformat": 4,
 "nbformat_minor": 5
}
