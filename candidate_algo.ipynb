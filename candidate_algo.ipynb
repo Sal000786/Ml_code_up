{
 "cells": [
  {
   "cell_type": "code",
   "execution_count": 6,
   "id": "be334483",
   "metadata": {},
   "outputs": [],
   "source": [
    "import pandas as pd\n",
    "import numpy as np"
   ]
  },
  {
   "cell_type": "code",
   "execution_count": 7,
   "id": "af656420",
   "metadata": {},
   "outputs": [
    {
     "data": {
      "text/html": [
       "<div>\n",
       "<style scoped>\n",
       "    .dataframe tbody tr th:only-of-type {\n",
       "        vertical-align: middle;\n",
       "    }\n",
       "\n",
       "    .dataframe tbody tr th {\n",
       "        vertical-align: top;\n",
       "    }\n",
       "\n",
       "    .dataframe thead th {\n",
       "        text-align: right;\n",
       "    }\n",
       "</style>\n",
       "<table border=\"1\" class=\"dataframe\">\n",
       "  <thead>\n",
       "    <tr style=\"text-align: right;\">\n",
       "      <th></th>\n",
       "      <th>Sky</th>\n",
       "      <th>AirTemp</th>\n",
       "      <th>Humidity</th>\n",
       "      <th>Wind</th>\n",
       "      <th>Water</th>\n",
       "      <th>Forcast</th>\n",
       "      <th>EnjoySport</th>\n",
       "    </tr>\n",
       "  </thead>\n",
       "  <tbody>\n",
       "    <tr>\n",
       "      <th>0</th>\n",
       "      <td>Sunny</td>\n",
       "      <td>Warm</td>\n",
       "      <td>Normal</td>\n",
       "      <td>Strong</td>\n",
       "      <td>Warm</td>\n",
       "      <td>Same</td>\n",
       "      <td>Yes</td>\n",
       "    </tr>\n",
       "    <tr>\n",
       "      <th>1</th>\n",
       "      <td>Sunny</td>\n",
       "      <td>Warm</td>\n",
       "      <td>High</td>\n",
       "      <td>Strong</td>\n",
       "      <td>Warm</td>\n",
       "      <td>Same</td>\n",
       "      <td>Yes</td>\n",
       "    </tr>\n",
       "    <tr>\n",
       "      <th>2</th>\n",
       "      <td>Rainy</td>\n",
       "      <td>Cold</td>\n",
       "      <td>High</td>\n",
       "      <td>Strong</td>\n",
       "      <td>Warm</td>\n",
       "      <td>Change</td>\n",
       "      <td>No</td>\n",
       "    </tr>\n",
       "    <tr>\n",
       "      <th>3</th>\n",
       "      <td>Sunny</td>\n",
       "      <td>Warm</td>\n",
       "      <td>High</td>\n",
       "      <td>Strong</td>\n",
       "      <td>Cool</td>\n",
       "      <td>Change</td>\n",
       "      <td>Yes</td>\n",
       "    </tr>\n",
       "  </tbody>\n",
       "</table>\n",
       "</div>"
      ],
      "text/plain": [
       "     Sky AirTemp Humidity    Wind Water Forcast EnjoySport\n",
       "0  Sunny    Warm   Normal  Strong  Warm    Same        Yes\n",
       "1  Sunny    Warm     High  Strong  Warm    Same        Yes\n",
       "2  Rainy    Cold     High  Strong  Warm  Change         No\n",
       "3  Sunny    Warm     High  Strong  Cool  Change        Yes"
      ]
     },
     "execution_count": 7,
     "metadata": {},
     "output_type": "execute_result"
    }
   ],
   "source": [
    "concept=pd.read_csv(\"C:\\\\Users\\\\salma\\\\OneDrive\\\\Documents\\\\Data_set2.csv\")\n",
    "concept\n"
   ]
  },
  {
   "cell_type": "code",
   "execution_count": 8,
   "id": "abd0e95b",
   "metadata": {},
   "outputs": [
    {
     "data": {
      "text/plain": [
       "array([['Sunny', 'Warm', 'Normal', 'Strong', 'Warm', 'Same'],\n",
       "       ['Sunny', 'Warm', 'High', 'Strong', 'Warm', 'Same'],\n",
       "       ['Rainy', 'Cold', 'High', 'Strong', 'Warm', 'Change'],\n",
       "       ['Sunny', 'Warm', 'High', 'Strong', 'Cool', 'Change']],\n",
       "      dtype=object)"
      ]
     },
     "execution_count": 8,
     "metadata": {},
     "output_type": "execute_result"
    }
   ],
   "source": [
    "data=np.array(concept)[:,:-1]\n",
    "data"
   ]
  },
  {
   "cell_type": "code",
   "execution_count": 9,
   "id": "c27beefe",
   "metadata": {},
   "outputs": [
    {
     "data": {
      "text/plain": [
       "array(['Yes', 'Yes', 'No', 'Yes'], dtype=object)"
      ]
     },
     "execution_count": 9,
     "metadata": {},
     "output_type": "execute_result"
    }
   ],
   "source": [
    "target=np.array(concept)[:,-1]\n",
    "target"
   ]
  },
  {
   "cell_type": "code",
   "execution_count": 29,
   "id": "cb32ad39",
   "metadata": {},
   "outputs": [
    {
     "name": "stdout",
     "output_type": "stream",
     "text": [
      "specific hypothesis is = ['Sunny' 'Warm' 'Normal' 'Strong' 'Warm' 'Same']\n",
      "sal is ['Sunny' 'Warm' 'High' 'Strong' 'Warm' 'Same']\n",
      "general hypothesis is  ['Rainy' 'Cold' 'High' 'Strong' 'Warm' 'Change']\n",
      "sal2 is = ['Rainy' 'Cold' 'High' 'Strong' 'Warm' 'Change']\n",
      "General hypothesis is = [['?', '?', '?', '?', '?'], ['?', '?', '?', '?', '?'], ['?', '?', '?', '?', '?'], ['?', '?', '?', '?', '?'], ['?', '?', '?', '?', '?'], ['?', '?', '?', '?', '?']]\n",
      "['Sunny' 'Warm' 'Normal' 'Strong' 'Warm' 'Same']\n",
      "['Sunny' 'Warm' 'High' 'Strong' 'Warm' 'Same']\n",
      "['Rainy' 'Cold' 'High' 'Strong' 'Warm' 'Change']\n",
      "['Sunny' 'Warm' 'High' 'Strong' 'Cool' 'Change']\n"
     ]
    }
   ],
   "source": [
    "for i in range(4):\n",
    "    if(target[i]==\"Yes\"):\n",
    "        specific_hypo=data[i].copy()\n",
    "        break\n",
    "#     elif(target[i]==\"No\"):\n",
    "#     else:\n",
    "#         general_hypo=data[i].copy()\n",
    "#         break\n",
    "for i in range(4):\n",
    "    if(target[i]==\"No\"):\n",
    "        general_hypo=data[i].copy()\n",
    "        break\n",
    "print(\"specific hypothesis is =\",specific_hypo)\n",
    "sal=data[1]\n",
    "print(\"sal is\",sal)\n",
    "print(\"general hypothesis is \",general_hypo)\n",
    "sal2=data[2]\n",
    "print(\"sal2 is =\",sal2)\n",
    "general_hypo=[[\"?\" for i in range(5)]for i in range(6)]\n",
    "\n",
    "print(\"General hypothesis is =\",general_hypo)\n",
    "\n",
    "for i in range(4):\n",
    "    if(target[i]==\"Yes\"):\n",
    "            temp=data[i].copy()\n",
    "            print(temp)\n",
    "    else:\n",
    "        temp=data[i].copy()\n",
    "        print(temp)"
   ]
  },
  {
   "cell_type": "code",
   "execution_count": 28,
   "id": "9eb77226",
   "metadata": {},
   "outputs": [
    {
     "name": "stdout",
     "output_type": "stream",
     "text": [
      "specific hypothesis is = ['Sunny' 'Warm' '?' 'Strong' '?' '?']\n",
      "['Sunny' 'Warm' '?' 'Strong' '?' '?']\n",
      "['Rainy' 'Cold' 'High' 'Strong' 'Warm' 'Change']\n"
     ]
    }
   ],
   "source": [
    "for i in range(3):\n",
    "    for j in range(6):\n",
    "        if(target[i]==\"Yes\"):\n",
    "            if(specific_hypo[j]!=temp[j]):\n",
    "                temp[j]=\"?\"\n",
    "                specific_hypo[j]=temp[j]\n",
    "        else:\n",
    "            pass\n",
    "\n",
    "print(\"specific hypothesis is =\",temp)\n",
    "print(specific_hypo)\n",
    "print(sal2)\n"
   ]
  },
  {
   "cell_type": "code",
   "execution_count": null,
   "id": "8f04f434",
   "metadata": {},
   "outputs": [],
   "source": [
    "\n",
    "            "
   ]
  },
  {
   "cell_type": "code",
   "execution_count": 178,
   "id": "44c972d5",
   "metadata": {},
   "outputs": [
    {
     "name": "stdout",
     "output_type": "stream",
     "text": [
      "specific hypothesis is = ['Sunny' 'Warm' '?' 'Strong' '?' '?']\n",
      "general hypothesis is = ['Sunny' 'Warm' 's' 's' 's' 'Same']\n"
     ]
    }
   ],
   "source": [
    "for i in range(3):\n",
    "    for j in range(6):\n",
    "        if(target[i]==\"Yes\"):\n",
    "            if(specific_hypo[j]!=temp[j]):\n",
    "                temp[j]=\"?\"\n",
    "                temp[j]=specific_hypo[j]\n",
    "\n",
    "            else:\n",
    "                pass                \n",
    "print(\"specific hypothesis is =\",temp)\n",
    "for i in range(3):\n",
    "    for j in range(6):\n",
    "        if(target[i]==\"No\"):\n",
    "            if(sal[j]!=sal2[j]):\n",
    "                general_hypo[j]=sal[j]\n",
    "print(\"general hypothesis is =\",general_hypo)"
   ]
  },
  {
   "cell_type": "code",
   "execution_count": null,
   "id": "ad37914c",
   "metadata": {},
   "outputs": [],
   "source": []
  }
 ],
 "metadata": {
  "kernelspec": {
   "display_name": "Python 3",
   "language": "python",
   "name": "python3"
  },
  "language_info": {
   "codemirror_mode": {
    "name": "ipython",
    "version": 3
   },
   "file_extension": ".py",
   "mimetype": "text/x-python",
   "name": "python",
   "nbconvert_exporter": "python",
   "pygments_lexer": "ipython3",
   "version": "3.8.8"
  }
 },
 "nbformat": 4,
 "nbformat_minor": 5
}
