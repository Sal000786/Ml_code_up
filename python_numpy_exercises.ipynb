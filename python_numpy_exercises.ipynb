{
 "cells": [
  {
   "cell_type": "code",
   "execution_count": 3,
   "id": "485f8c95",
   "metadata": {},
   "outputs": [
    {
     "name": "stdout",
     "output_type": "stream",
     "text": [
      "[[1 2 3]\n",
      " [4 5 6]\n",
      " [7 8 9]]\n",
      "dimension of the array are 2\n",
      "shape of the array is  (3, 3)\n"
     ]
    }
   ],
   "source": [
    "import numpy as np\n",
    "a=[[1,2,3],[4,5,6],[7,8,9]]\n",
    "sal=np.array(a)\n",
    "print(sal)\n",
    "print(\"dimension of the array are\",sal.ndim)\n",
    "print(\"shape of the array is \",sal.shape)"
   ]
  },
  {
   "cell_type": "code",
   "execution_count": null,
   "id": "b4a78602",
   "metadata": {},
   "outputs": [],
   "source": []
  },
  {
   "cell_type": "code",
   "execution_count": 18,
   "id": "71002466",
   "metadata": {},
   "outputs": [
    {
     "name": "stdout",
     "output_type": "stream",
     "text": [
      "the 2D array is\n",
      " [[0. 0. 0.]\n",
      " [0. 0. 0.]]\n"
     ]
    }
   ],
   "source": [
    "arr=np.zeros(5)\n",
    "#print(\"one dimesntional array is \",x)\n",
    "arr\n",
    "x=np.zeros((2,3))\n",
    "print(\"the 2D array is\\n\",x)"
   ]
  },
  {
   "cell_type": "code",
   "execution_count": 23,
   "id": "2ce14c9e",
   "metadata": {},
   "outputs": [
    {
     "data": {
      "text/plain": [
       "array([0., 0., 0., 0., 0.])"
      ]
     },
     "execution_count": 23,
     "metadata": {},
     "output_type": "execute_result"
    }
   ],
   "source": [
    "arr=np.zeros(5)\n",
    "arr"
   ]
  },
  {
   "cell_type": "code",
   "execution_count": 25,
   "id": "1058b09f",
   "metadata": {},
   "outputs": [
    {
     "data": {
      "text/plain": [
       "array([[0., 0., 0.],\n",
       "       [0., 0., 0.]])"
      ]
     },
     "execution_count": 25,
     "metadata": {},
     "output_type": "execute_result"
    }
   ],
   "source": [
    "arr=np.zeros((2,3))\n",
    "arr"
   ]
  },
  {
   "cell_type": "code",
   "execution_count": 27,
   "id": "656bff81",
   "metadata": {},
   "outputs": [
    {
     "data": {
      "text/plain": [
       "array([0., 0., 0., 0., 0.])"
      ]
     },
     "execution_count": 27,
     "metadata": {},
     "output_type": "execute_result"
    }
   ],
   "source": [
    "sal=np.zeros(5)\n",
    "sal"
   ]
  },
  {
   "cell_type": "code",
   "execution_count": 37,
   "id": "d15c1529",
   "metadata": {},
   "outputs": [
    {
     "data": {
      "text/plain": [
       "array([[1., 0., 0., 0., 0.],\n",
       "       [0., 1., 0., 0., 0.],\n",
       "       [0., 0., 1., 0., 0.],\n",
       "       [0., 0., 0., 1., 0.]])"
      ]
     },
     "execution_count": 37,
     "metadata": {},
     "output_type": "execute_result"
    }
   ],
   "source": [
    "#demonstrating the numpy function eye\n",
    "sal=np.eye(5)\n",
    "sal\n",
    "\n",
    "sal=np.eye(4,5)\n",
    "sal"
   ]
  },
  {
   "cell_type": "code",
   "execution_count": 39,
   "id": "b0b4e48b",
   "metadata": {},
   "outputs": [
    {
     "data": {
      "text/plain": [
       "array([[1, 0, 0, 0],\n",
       "       [0, 2, 0, 0],\n",
       "       [0, 0, 3, 0],\n",
       "       [0, 0, 0, 4]])"
      ]
     },
     "execution_count": 39,
     "metadata": {},
     "output_type": "execute_result"
    }
   ],
   "source": [
    "sal=np.diag([1,2,3,4])\n",
    "sal"
   ]
  },
  {
   "cell_type": "code",
   "execution_count": 59,
   "id": "e061cec9",
   "metadata": {},
   "outputs": [
    {
     "data": {
      "text/plain": [
       "array([0.93573474, 0.25121242, 0.206649  , 0.59130946, 0.65678967,\n",
       "       0.22078253, 0.40480219, 0.73207394, 0.21052249, 0.45118748,\n",
       "       0.75587005, 0.86551819, 0.16667282, 0.46310334, 0.69963095,\n",
       "       0.53823268, 0.16527155, 0.60739885, 0.93550563, 0.89189008,\n",
       "       0.02349061, 0.10197969, 0.66286534, 0.9758888 , 0.01891025,\n",
       "       0.90195683, 0.59155007, 0.64415492, 0.61012739, 0.30698755,\n",
       "       0.86260297, 0.58361335, 0.22322149, 0.46250208, 0.1836506 ,\n",
       "       0.03803027, 0.32657673, 0.58180031, 0.4966576 , 0.37646967,\n",
       "       0.61688965, 0.43998286, 0.72733384, 0.85117745, 0.70026999,\n",
       "       0.81869168, 0.78958044, 0.77218862, 0.40727506, 0.79028983,\n",
       "       0.82512994, 0.74787271, 0.52510289, 0.15088168, 0.55913717,\n",
       "       0.10659566, 0.33120188, 0.38192224, 0.48705142, 0.49507613,\n",
       "       0.04830181, 0.71121658, 0.06311678, 0.04615254, 0.90063126,\n",
       "       0.13352124, 0.90430856, 0.66772183, 0.92640904, 0.43624796,\n",
       "       0.28360062, 0.75458793, 0.82708516, 0.4256167 , 0.45695979,\n",
       "       0.22093147, 0.04273324, 0.89741811, 0.77349881, 0.60299084,\n",
       "       0.28745617, 0.56956623, 0.91525084, 0.72035755, 0.37391802,\n",
       "       0.93759191, 0.14627453, 0.3795071 , 0.89269394, 0.30539305,\n",
       "       0.96070696, 0.20153838, 0.42157482, 0.38989026, 0.31330723,\n",
       "       0.0970716 , 0.62718441, 0.26562758, 0.91677516, 0.48705771])"
      ]
     },
     "execution_count": 59,
     "metadata": {},
     "output_type": "execute_result"
    }
   ],
   "source": [
    "sal=np.diag([1,2,3,4,5,6,7,8,9,10])\n",
    "sal\n",
    "np.diag(sal)\n",
    "\n",
    "sal=np.random.randint(1,20,5)\n",
    "sal=np.random.randint(1,20,4)\n",
    "sal\n",
    "sal=np.random.rand(10)\n",
    "sal\n",
    "sal=np.random.rand(100)\n",
    "sal"
   ]
  },
  {
   "cell_type": "code",
   "execution_count": 64,
   "id": "0f379d00",
   "metadata": {},
   "outputs": [
    {
     "data": {
      "text/plain": [
       "array([-2.31839179,  0.10563354,  0.87414077, -0.23396713])"
      ]
     },
     "execution_count": 64,
     "metadata": {},
     "output_type": "execute_result"
    }
   ],
   "source": [
    "sal=np.random.rand(4,2)\n",
    "sal\n",
    "sal=np.random.randn(4)\n",
    "sal\n"
   ]
  },
  {
   "cell_type": "code",
   "execution_count": 87,
   "id": "6be98d31",
   "metadata": {},
   "outputs": [
    {
     "name": "stdout",
     "output_type": "stream",
     "text": [
      "Enter the size of the array\n",
      "5\n",
      "Enter values \n",
      "10\n",
      "Enter values \n",
      "20\n",
      "Enter values \n",
      "30\n",
      "Enter values \n",
      "40\n",
      "Enter values \n",
      "50\n",
      "[10, 20, 30, 40, 50]\n",
      "[10 20 30 40 50]\n",
      "list [0] = 10\n",
      "list [1] = 20\n",
      "list [2] = 30\n",
      "list [3] = 40\n",
      "list [4] = 50\n",
      "[30, 40, 50]\n"
     ]
    }
   ],
   "source": [
    "import numpy as np\n",
    "list=[]\n",
    "size=int(input(\"Enter the size of the array\\n\"))\n",
    "for i in range(size):\n",
    "    val=int(input(\"Enter values \\n\"))\n",
    "    list.append(val)\n",
    "print(list)\n",
    "sal=np.array(list)\n",
    "print(sal)\n",
    "for i in range(sal.size):\n",
    "    print(\"list\",[i],\"=\",sal[i])\n",
    "salman=list[2:5]\n",
    "print(salman)"
   ]
  },
  {
   "cell_type": "code",
   "execution_count": 3,
   "id": "68ea418b",
   "metadata": {},
   "outputs": [
    {
     "name": "stdout",
     "output_type": "stream",
     "text": [
      "[[41 30  4]\n",
      " [ 6  1  6]\n",
      " [ 7 35 29]\n",
      " [47 36  9]]\n",
      "after reshaping 2\n"
     ]
    }
   ],
   "source": [
    "import numpy as np\n",
    "sal=np.random.randint(1,50,12)\n",
    "sal\n",
    "sal.shape\n",
    "sal\n",
    "arr=sal.reshape(4,3)\n",
    "print(arr)\n",
    "print(\"after reshaping\",arr.ndim)"
   ]
  },
  {
   "cell_type": "code",
   "execution_count": 18,
   "id": "fd513e37",
   "metadata": {},
   "outputs": [
    {
     "name": "stdout",
     "output_type": "stream",
     "text": [
      "[[56 33  8 59 13]\n",
      " [17 59 29  9 26]\n",
      " [ 2 35 13 43 35]\n",
      " [10  8 25  6 42]]\n",
      "[[56 33  8 59]\n",
      " [13 17 59 29]\n",
      " [ 9 26  2 35]\n",
      " [13 43 35 10]\n",
      " [ 8 25  6 42]]\n"
     ]
    },
    {
     "data": {
      "text/plain": [
       "array([[[40, 59, 12],\n",
       "        [31, 15, 46]],\n",
       "\n",
       "       [[13, 28, 72],\n",
       "        [53, 22, 80]]])"
      ]
     },
     "execution_count": 18,
     "metadata": {},
     "output_type": "execute_result"
    }
   ],
   "source": [
    "sal=np.random.randint(1,60,20)\n",
    "sal\n",
    "sal.shape\n",
    "array=sal.reshape(4,5)\n",
    "print(array)\n",
    "array=sal.reshape(5,4)\n",
    "print(array)\n",
    "\n",
    "#convert a 1d array to 2d and 3d\n",
    "array=np.random.randint(1,100,12)\n",
    "array\n",
    "array.shape\n",
    "x=array.reshape(2,2,3)\n",
    "x"
   ]
  },
  {
   "cell_type": "code",
   "execution_count": 1,
   "id": "575c58a1",
   "metadata": {},
   "outputs": [
    {
     "ename": "NameError",
     "evalue": "name 'np' is not defined",
     "output_type": "error",
     "traceback": [
      "\u001b[1;31m---------------------------------------------------------------------------\u001b[0m",
      "\u001b[1;31mNameError\u001b[0m                                 Traceback (most recent call last)",
      "\u001b[1;32m<ipython-input-1-d5dd3f93e24c>\u001b[0m in \u001b[0;36m<module>\u001b[1;34m\u001b[0m\n\u001b[1;32m----> 1\u001b[1;33m \u001b[0msal\u001b[0m\u001b[1;33m=\u001b[0m\u001b[0mnp\u001b[0m\u001b[1;33m.\u001b[0m\u001b[0mrandom\u001b[0m\u001b[1;33m.\u001b[0m\u001b[0mrandint\u001b[0m\u001b[1;33m(\u001b[0m\u001b[1;36m1\u001b[0m\u001b[1;33m,\u001b[0m\u001b[1;36m50\u001b[0m\u001b[1;33m,\u001b[0m\u001b[1;36m12\u001b[0m\u001b[1;33m)\u001b[0m\u001b[1;33m\u001b[0m\u001b[1;33m\u001b[0m\u001b[0m\n\u001b[0m\u001b[0;32m      2\u001b[0m \u001b[0msal\u001b[0m\u001b[1;33m.\u001b[0m\u001b[0mshape\u001b[0m\u001b[1;33m\u001b[0m\u001b[1;33m\u001b[0m\u001b[0m\n\u001b[0;32m      3\u001b[0m \u001b[0marray\u001b[0m\u001b[1;33m=\u001b[0m\u001b[0msal\u001b[0m\u001b[1;33m.\u001b[0m\u001b[0mreshape\u001b[0m\u001b[1;33m(\u001b[0m\u001b[1;36m4\u001b[0m\u001b[1;33m,\u001b[0m\u001b[1;33m-\u001b[0m\u001b[1;36m1\u001b[0m\u001b[1;33m)\u001b[0m\u001b[1;33m\u001b[0m\u001b[1;33m\u001b[0m\u001b[0m\n\u001b[0;32m      4\u001b[0m \u001b[0marray\u001b[0m\u001b[1;33m\u001b[0m\u001b[1;33m\u001b[0m\u001b[0m\n\u001b[0;32m      5\u001b[0m \u001b[0marray\u001b[0m\u001b[1;33m=\u001b[0m\u001b[0msal\u001b[0m\u001b[1;33m.\u001b[0m\u001b[0mreshape\u001b[0m\u001b[1;33m(\u001b[0m\u001b[1;33m-\u001b[0m\u001b[1;36m2\u001b[0m\u001b[1;33m,\u001b[0m\u001b[1;33m)\u001b[0m\u001b[1;33m\u001b[0m\u001b[1;33m\u001b[0m\u001b[0m\n",
      "\u001b[1;31mNameError\u001b[0m: name 'np' is not defined"
     ]
    }
   ],
   "source": [
    "sal=np.random.randint(1,50,12)\n",
    "sal.shape\n",
    "array=sal.reshape(4,-1)\n",
    "array\n",
    "array=sal.reshape(-2,)"
   ]
  },
  {
   "cell_type": "code",
   "execution_count": 5,
   "id": "89027d6b",
   "metadata": {},
   "outputs": [
    {
     "data": {
      "text/plain": [
       "10"
      ]
     },
     "execution_count": 5,
     "metadata": {},
     "output_type": "execute_result"
    }
   ],
   "source": [
    "import numpy as np\n",
    "np.random.seed(12)\n",
    "sal=np.random.randint(1,100,10)\n",
    "sal\n",
    "sal.size"
   ]
  },
  {
   "cell_type": "code",
   "execution_count": 22,
   "id": "e25c093b",
   "metadata": {},
   "outputs": [
    {
     "name": "stdout",
     "output_type": "stream",
     "text": [
      "Enter the no of rows4\n",
      "Enter the no of coloumns3\n",
      "Enter values\n",
      "1\n",
      "Enter values\n",
      "2\n",
      "Enter values\n",
      "3\n",
      "Enter values\n",
      "4\n",
      "Enter values\n",
      "5\n",
      "Enter values\n",
      "6\n",
      "Enter values\n",
      "7\n",
      "Enter values\n",
      "8\n",
      "Enter values\n",
      "9\n",
      "Enter values\n",
      "10\n",
      "Enter values\n",
      "11\n",
      "Enter values\n",
      "12\n",
      "1 2 3 \n",
      "4 5 6 \n",
      "7 8 9 \n",
      "10 11 12 \n",
      "<class 'numpy.ndarray'>\n"
     ]
    }
   ],
   "source": [
    "import numpy as np\n",
    "list=[]\n",
    "row=int(input(\"Enter the no of rows\"))\n",
    "col=int(input(\"Enter the no of coloumns\"))\n",
    "for i in range(row):\n",
    "    a=[]\n",
    "#     val1=int(input(\"Enter value pls\\n\"))\n",
    "#     list.append(val1)\n",
    "    for j in range(col):\n",
    "        val2=int(input(\"Enter values\\n\"))\n",
    "        a.append(val2)\n",
    "    list.append(a)\n",
    "arr=np.array(list)\n",
    "for i in range(row):\n",
    "    for j in range(col):\n",
    "        print(arr[i][j],end=\" \")\n",
    "    print()\n",
    "print(type(arr))"
   ]
  },
  {
   "cell_type": "code",
   "execution_count": null,
   "id": "da87ec05",
   "metadata": {},
   "outputs": [],
   "source": [
    "import pandas as pd\n",
    "sal=pd.read_csv(\"C:\\\\Users\\\\salma\\\\OneDrive\\\\Documents\\\\data_set.csv\")\n",
    "sal\n",
    "sal['event',\"Sunny\"]"
   ]
  }
 ],
 "metadata": {
  "kernelspec": {
   "display_name": "Python 3",
   "language": "python",
   "name": "python3"
  },
  "language_info": {
   "codemirror_mode": {
    "name": "ipython",
    "version": 3
   },
   "file_extension": ".py",
   "mimetype": "text/x-python",
   "name": "python",
   "nbconvert_exporter": "python",
   "pygments_lexer": "ipython3",
   "version": "3.8.8"
  }
 },
 "nbformat": 4,
 "nbformat_minor": 5
}
