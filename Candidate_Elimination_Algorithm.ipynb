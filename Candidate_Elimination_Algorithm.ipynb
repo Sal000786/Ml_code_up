{
 "cells": [
  {
   "cell_type": "code",
   "execution_count": 183,
   "id": "02a55c49",
   "metadata": {},
   "outputs": [
    {
     "name": "stdout",
     "output_type": "stream",
     "text": [
      "<class 'list'>\n"
     ]
    }
   ],
   "source": [
    "import pandas as pd\n",
    "import numpy as np\n",
    "df=pd.read_csv(\"C:\\\\Users\\\\salma\\\\OneDrive\\\\Documents\\\\Data_set2.csv\")\n",
    "df\n",
    "array_format=np.array(df)[:, : -1]\n",
    "array_format\n",
    "last_one=np.array(df)[:, -1]\n",
    "last_one=[last_one]\n",
    "print(type(last_one))\n"
   ]
  },
  {
   "cell_type": "code",
   "execution_count": 189,
   "id": "59ca339c",
   "metadata": {},
   "outputs": [
    {
     "name": "stdout",
     "output_type": "stream",
     "text": [
      "['Sunny' 'Warm' 'High' 'Strong' 'Warm' 'Same']\n",
      "<class 'list'>\n",
      "<class 'list'>\n"
     ]
    },
    {
     "ename": "ValueError",
     "evalue": "The truth value of an array with more than one element is ambiguous. Use a.any() or a.all()",
     "output_type": "error",
     "traceback": [
      "\u001b[1;31m---------------------------------------------------------------------------\u001b[0m",
      "\u001b[1;31mValueError\u001b[0m                                Traceback (most recent call last)",
      "\u001b[1;32m<ipython-input-189-8cc253dfff0b>\u001b[0m in \u001b[0;36m<module>\u001b[1;34m\u001b[0m\n\u001b[0;32m     10\u001b[0m \u001b[0mprint\u001b[0m\u001b[1;33m(\u001b[0m\u001b[0mtype\u001b[0m\u001b[1;33m(\u001b[0m\u001b[0msal2\u001b[0m\u001b[1;33m)\u001b[0m\u001b[1;33m)\u001b[0m\u001b[1;33m\u001b[0m\u001b[1;33m\u001b[0m\u001b[0m\n\u001b[0;32m     11\u001b[0m \u001b[1;32mfor\u001b[0m \u001b[0mj\u001b[0m \u001b[1;32min\u001b[0m \u001b[0mrange\u001b[0m\u001b[1;33m(\u001b[0m\u001b[1;36m5\u001b[0m\u001b[1;33m)\u001b[0m\u001b[1;33m:\u001b[0m\u001b[1;33m\u001b[0m\u001b[1;33m\u001b[0m\u001b[0m\n\u001b[1;32m---> 12\u001b[1;33m     \u001b[1;32mif\u001b[0m\u001b[1;33m(\u001b[0m\u001b[0msal\u001b[0m\u001b[1;33m[\u001b[0m\u001b[1;33m:\u001b[0m \u001b[1;33m]\u001b[0m\u001b[1;33m==\u001b[0m\u001b[0msal2\u001b[0m\u001b[1;33m[\u001b[0m\u001b[1;33m:\u001b[0m \u001b[1;33m]\u001b[0m\u001b[1;33m)\u001b[0m\u001b[1;33m:\u001b[0m\u001b[1;33m\u001b[0m\u001b[1;33m\u001b[0m\u001b[0m\n\u001b[0m\u001b[0;32m     13\u001b[0m         \u001b[0mprint\u001b[0m\u001b[1;33m(\u001b[0m\u001b[1;34m'dhf'\u001b[0m\u001b[1;33m)\u001b[0m\u001b[1;33m\u001b[0m\u001b[1;33m\u001b[0m\u001b[0m\n\u001b[0;32m     14\u001b[0m \u001b[1;33m\u001b[0m\u001b[0m\n",
      "\u001b[1;31mValueError\u001b[0m: The truth value of an array with more than one element is ambiguous. Use a.any() or a.all()"
     ]
    }
   ],
   "source": [
    "for i in range(len(last_one)):\n",
    "    if(last_one[: ]==\"Yes\"):\n",
    "        specific_hypothesis=array_format[i].copy()\n",
    "        specific_hypothesis=np.array(specific_hypothesis)\n",
    "    print((specific_hypothesis))\n",
    "#         print('salman faizi')\n",
    "sal=[specific_hypothesis]\n",
    "print(type(sal))\n",
    "sal2=[array_format]\n",
    "print(type(sal2))\n",
    "for j in range(5):\n",
    "    if(sal[: ]==sal2[: ]):\n",
    "        print('dhf')\n",
    "\n",
    "\n",
    "\n",
    "# print(sal2)\n",
    "# print(sal2[2])\n",
    "# last_one=np.array(df)[:, -1]\n",
    "# last_one\n",
    "# for i in range(0,3):\n",
    "#     if(last_one[i]=='Yes'):\n",
    "#         comp=sal==sal2\n",
    "#         print(comp)\n",
    "# print(np.equal(sal,sal2))\n",
    "# # print(comp)\n",
    "    \n",
    "\n",
    "\n",
    "\n",
    "\n",
    "\n",
    "\n",
    "# for i in range(0,3):\n",
    "#     if(last_one[i]==\"Yes\"):\n",
    "#         if(specific_hypothesis[i]==array_format[i]):\n",
    "#             print(comp)\n",
    "            \n",
    "# print(type(specific_hypothesis))\n",
    "#         break\n",
    "# for j in range(1):\n",
    "#     if(last_one[i]==\"Yes\"):\n",
    "#     if(last_one[i]==\"Yes\"):\n",
    "#         comp=specific_hypothesis==array_format\n",
    "#         print(comp)"
   ]
  },
  {
   "cell_type": "code",
   "execution_count": 205,
   "id": "879dbc43",
   "metadata": {},
   "outputs": [
    {
     "ename": "AttributeError",
     "evalue": "'list' object has no attribute 'any'",
     "output_type": "error",
     "traceback": [
      "\u001b[1;31m---------------------------------------------------------------------------\u001b[0m",
      "\u001b[1;31mAttributeError\u001b[0m                            Traceback (most recent call last)",
      "\u001b[1;32m<ipython-input-205-4ad1ebbe312b>\u001b[0m in \u001b[0;36m<module>\u001b[1;34m\u001b[0m\n\u001b[0;32m      2\u001b[0m \u001b[1;33m\u001b[0m\u001b[0m\n\u001b[0;32m      3\u001b[0m     \u001b[0mcomp\u001b[0m\u001b[1;33m=\u001b[0m\u001b[0mspecific_hypothesis\u001b[0m\u001b[1;33m==\u001b[0m\u001b[0marray_format\u001b[0m\u001b[1;33m\u001b[0m\u001b[1;33m\u001b[0m\u001b[0m\n\u001b[1;32m----> 4\u001b[1;33m     \u001b[0mlast_one\u001b[0m\u001b[1;33m.\u001b[0m\u001b[0many\u001b[0m\u001b[1;33m(\u001b[0m\u001b[1;33m)\u001b[0m\u001b[1;33m\u001b[0m\u001b[1;33m\u001b[0m\u001b[0m\n\u001b[0m\u001b[0;32m      5\u001b[0m     \u001b[0mprint\u001b[0m\u001b[1;33m(\u001b[0m\u001b[0mcomp\u001b[0m\u001b[1;33m)\u001b[0m\u001b[1;33m\u001b[0m\u001b[1;33m\u001b[0m\u001b[0m\n\u001b[0;32m      6\u001b[0m \u001b[1;33m\u001b[0m\u001b[0m\n",
      "\u001b[1;31mAttributeError\u001b[0m: 'list' object has no attribute 'any'"
     ]
    }
   ],
   "source": [
    "for i in range(1):\n",
    "   \n",
    "    comp=specific_hypothesis==array_format\n",
    "    last_one.any()\n",
    "    print(comp)\n",
    "        \n",
    "        \n",
    "#     else:\n",
    "#         specific_hypothesis[j]=\"?\"\n",
    "#         print(specific_hypothesis)\n"
   ]
  },
  {
   "cell_type": "code",
   "execution_count": 137,
   "id": "29daa655",
   "metadata": {},
   "outputs": [
    {
     "name": "stdout",
     "output_type": "stream",
     "text": [
      "[ True  True]\n",
      "[ True  True]\n"
     ]
    }
   ],
   "source": [
    "a=np.array(['salman','faizi'],dtype=('bool'))\n",
    "b=np.array(['salman','faizi5'],dtype=('bool'))\n",
    "print(a==b)\n",
    "print(np.equal(a,b))\n"
   ]
  }
 ],
 "metadata": {
  "kernelspec": {
   "display_name": "Python 3",
   "language": "python",
   "name": "python3"
  },
  "language_info": {
   "codemirror_mode": {
    "name": "ipython",
    "version": 3
   },
   "file_extension": ".py",
   "mimetype": "text/x-python",
   "name": "python",
   "nbconvert_exporter": "python",
   "pygments_lexer": "ipython3",
   "version": "3.8.8"
  }
 },
 "nbformat": 4,
 "nbformat_minor": 5
}
