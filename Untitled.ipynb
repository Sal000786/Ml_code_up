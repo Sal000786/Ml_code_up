{
 "cells": [
  {
   "cell_type": "code",
   "execution_count": 64,
   "id": "bcb160fc",
   "metadata": {},
   "outputs": [
    {
     "data": {
      "text/plain": [
       "array(['Yes', 'Yes', 'No', 'Yes'], dtype=object)"
      ]
     },
     "execution_count": 64,
     "metadata": {},
     "output_type": "execute_result"
    }
   ],
   "source": [
    "import pandas as pd\n",
    "import numpy as np\n",
    "df=pd.read_csv(\"C:\\\\Users\\\\salma\\\\OneDrive\\\\Documents\\\\Data_set2.csv\")\n",
    "df\n",
    "array_format=np.array(df)[:, : -1]\n",
    "array_format\n",
    "last_one=np.array(df)[:, -1]\n",
    "last_one\n"
   ]
  },
  {
   "cell_type": "code",
   "execution_count": 140,
   "id": "1fe38c3d",
   "metadata": {},
   "outputs": [
    {
     "name": "stdout",
     "output_type": "stream",
     "text": [
      "[[ True  True  True  True  True  True]]\n",
      "[[ True  True  True  True  True  True]]\n",
      "[[ True  True  True  True  True  True]]\n"
     ]
    }
   ],
   "source": [
    "for i in range(len(last_one)):\n",
    "    if(last_one[i]==\"Yes\"):\n",
    "        specific_hypo=array_format[i].copy()\n",
    "        specific_hypo2=np.array([specific_hypo])\n",
    "#         print(specific_hypo2)\n",
    "        comp=specific_hypo2==array_format[i]\n",
    "        print(comp)\n",
    "        \n",
    "    else:\n",
    "#         print('jflj')\n",
    "        pass\n",
    "# for j in range(0,5):\n",
    "# #     if(last_one[j]==\"Yes\"):\n",
    "#     print(specific_hypo2[1])\n",
    "#     print(specific_hypo[1])\n",
    "#         if(specific_hypo[1]==specific_hypo[2]):\n",
    "#             pass\n",
    "#         else:\n",
    "#             specific_hypo[i]=\"?\""
   ]
  }
 ],
 "metadata": {
  "kernelspec": {
   "display_name": "Python 3",
   "language": "python",
   "name": "python3"
  },
  "language_info": {
   "codemirror_mode": {
    "name": "ipython",
    "version": 3
   },
   "file_extension": ".py",
   "mimetype": "text/x-python",
   "name": "python",
   "nbconvert_exporter": "python",
   "pygments_lexer": "ipython3",
   "version": "3.8.8"
  }
 },
 "nbformat": 4,
 "nbformat_minor": 5
}
