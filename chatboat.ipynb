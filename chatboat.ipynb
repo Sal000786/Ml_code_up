{
 "cells": [
  {
   "cell_type": "code",
   "execution_count": null,
   "id": "a4a3e479",
   "metadata": {},
   "outputs": [],
   "source": [
    "\n",
    "import csv\n",
    "sal1 = list()\n",
    "with open(\"C:\\\\Users\\\\salma\\\\OneDrive\\\\Documents\\\\salman.csv\",'r')as file:\n",
    "    sal1=list(csv.reader(file))\n",
    "    print(sal1)\n",
    "while(True):\n",
    "    user=input(\"Enter your questions..\")\n",
    "    if user=='quit':\n",
    "        break    \n",
    "    for ques in sal1:\n",
    "        if user in ques:\n",
    "            print(ques[1])\n",
    "            break"
   ]
  },
  {
   "cell_type": "code",
   "execution_count": null,
   "id": "e48c836a",
   "metadata": {},
   "outputs": [],
   "source": [
    "import csv\n",
    "with open(\"C:\\\\Users\\\\salma\\\\OneDrive\\\\Documents\\\\salman.csv\",'r') as file:\n",
    "    sal=list(csv.reader(file))\n",
    "    print(sal)\n",
    "while(True):\n",
    "    user=input(\"Enter your question\")\n",
    "    for ques in sal:\n",
    "        if ques in user:\n",
    "            print(ques[1])\n",
    "        elif(user==\"quit\"):\n",
    "            break\n",
    "        else:\n",
    "            print(\"Enter a valid question\")\n",
    "    \n",
    "        "
   ]
  },
  {
   "cell_type": "code",
   "execution_count": null,
   "id": "cbb931e0",
   "metadata": {},
   "outputs": [],
   "source": []
  }
 ],
 "metadata": {
  "kernelspec": {
   "display_name": "Python 3",
   "language": "python",
   "name": "python3"
  },
  "language_info": {
   "codemirror_mode": {
    "name": "ipython",
    "version": 3
   },
   "file_extension": ".py",
   "mimetype": "text/x-python",
   "name": "python",
   "nbconvert_exporter": "python",
   "pygments_lexer": "ipython3",
   "version": "3.8.8"
  }
 },
 "nbformat": 4,
 "nbformat_minor": 5
}
