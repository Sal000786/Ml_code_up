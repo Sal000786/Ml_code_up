{
 "cells": [
  {
   "cell_type": "code",
   "execution_count": 3,
   "id": "3ff792b1",
   "metadata": {},
   "outputs": [
    {
     "name": "stdout",
     "output_type": "stream",
     "text": [
      "Enter the input values of I1,I20.2\n",
      "0.2\n",
      "Enter the input values of I1,I20.3\n",
      "0.3\n"
     ]
    }
   ],
   "source": [
    "I1=float(input(\"Enter the input values of I1\"))\n",
    "print(I1)\n",
    "\n",
    "I2=float(input(\"Enter the input values of I2\"))\n",
    "print(I2)\n"
   ]
  },
  {
   "cell_type": "code",
   "execution_count": null,
   "id": "05cc78b8",
   "metadata": {},
   "outputs": [],
   "source": [
    "for i in range(5):\n",
    "    x=int(input(\"enter value of x[i]\"))\n",
    "    print(x)"
   ]
  },
  {
   "cell_type": "code",
   "execution_count": null,
   "id": "c4d697eb",
   "metadata": {},
   "outputs": [],
   "source": []
  },
  {
   "cell_type": "code",
   "execution_count": null,
   "id": "f396ae4a",
   "metadata": {},
   "outputs": [],
   "source": []
  }
 ],
 "metadata": {
  "kernelspec": {
   "display_name": "Python 3",
   "language": "python",
   "name": "python3"
  },
  "language_info": {
   "codemirror_mode": {
    "name": "ipython",
    "version": 3
   },
   "file_extension": ".py",
   "mimetype": "text/x-python",
   "name": "python",
   "nbconvert_exporter": "python",
   "pygments_lexer": "ipython3",
   "version": "3.8.8"
  }
 },
 "nbformat": 4,
 "nbformat_minor": 5
}
