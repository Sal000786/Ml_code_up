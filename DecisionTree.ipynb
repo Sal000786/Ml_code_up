{
 "cells": [
  {
   "cell_type": "code",
   "execution_count": 2,
   "id": "7d306d24",
   "metadata": {},
   "outputs": [
    {
     "name": "stdout",
     "output_type": "stream",
     "text": [
      "\n",
      " Given Play Tennis Data Set:\n",
      "\n",
      "      Outlook Temperature Humidiy   Windy PlayTennis\n",
      "0      Sunny         Hot    High    Weak         No\n",
      "1      Sunny         Hot    High  Strong         No\n",
      "2   Overcast         Hot    High    Weak        Yes\n",
      "3      Rainy        Mild    High    Weak        Yes\n",
      "4      Rainy        Cool  Normal    Weak        Yes\n",
      "5      Rainy        Cool  Normal  Strong         No\n",
      "6   Overcast        Cool  Normal  Strong        Yes\n",
      "7      Sunny        Mild    High    Weak         No\n",
      "8      Sunny        Cool  Normal    Weak        Yes\n",
      "9      Rainy        Mild  Normal    Weak        Yes\n",
      "10     Sunny        Mild  Normal  Strong        Yes\n",
      "11  Overcast        Mild    High  Strong        Yes\n",
      "12  Overcast         Hot  Normal    Weak        Yes\n",
      "13     Rainy        Mild    High  Strong         No\n",
      "{'Outlook': {'Overcast': 'Yes',\n",
      "             'Rainy': {'Windy': {'Strong': 'No', 'Weak': 'Yes'}},\n",
      "             'Sunny': {'Humidiy': {'High': 'No', 'Normal': 'Yes'}}}}\n"
     ]
    }
   ],
   "source": [
    "def find_entropy(df):\n",
    "    Class = df.keys()[-1]   #To make the code generic, changing target variable class name\n",
    "    entropy = 0\n",
    "    values = df[Class].unique()\n",
    "    for value in values:\n",
    "        fraction = df[Class].value_counts()[value]/len(df[Class])\n",
    "        entropy += -fraction*np.log2(fraction)\n",
    "    return entropy\n",
    "def find_entropy_attribute(df,attribute):\n",
    "    Class = df.keys()[-1]   #To make the code generic, changing target variable class name\n",
    "    target_variables = df[Class].unique()  #This gives all 'Yes' and 'No'\n",
    "    variables = df[attribute].unique()    #This gives different features in that attribute (like 'Hot','Cold' in Temperature)\n",
    "    entropy2 = 0\n",
    "    for variable in variables:\n",
    "        entropy = 0\n",
    "        for target_variable in target_variables:\n",
    "            num = len(df[attribute][df[attribute]==variable][df[Class] ==target_variable])\n",
    "            den = len(df[attribute][df[attribute]==variable])\n",
    "            fraction = num/(den+eps)\n",
    "            entropy += -fraction*log(fraction+eps)\n",
    "        fraction2 = den/len(df)\n",
    "        entropy2 += -fraction2*entropy\n",
    "    return abs(entropy2)\n",
    "def find_winner(df):\n",
    "    Entropy_att = []\n",
    "    IG = []\n",
    "    for key in df.keys()[:-1]:#         Entropy_att.append(find_entropy_attribute(df,key))\n",
    "        IG.append(find_entropy(df)-find_entropy_attribute(df,key))\n",
    "    return df.keys()[:-1][np.argmax(IG)] \n",
    "def get_subtable(df, node,value):\n",
    "    return df[df[node] == value].reset_index(drop=True)\n",
    "def buildTree(df,tree=None): \n",
    "    Class = df.keys()[-1]   #To make the code generic, changing target variable class name  #Here we build our decision tree  #Get attribute with maximum information gain\n",
    "    node = find_winner(df)#Get distinct value of that attribute e.g Salary is node and Low,Med and High are values\n",
    "    attValue = np.unique(df[node])#Create an empty dictionary to create tree    \n",
    "    if tree is None:                    \n",
    "        tree={}\n",
    "        tree[node] = {}#We make loop to construct a tree by calling this function recursively. #In this we check if the subset is pure and stops if it is pure. \n",
    "    for value in attValue:\n",
    "        subtable = get_subtable(df,node,value)\n",
    "        clValue,counts = np.unique(subtable['PlayTennis'],return_counts=True)                        \n",
    "        if len(counts)==1:#Checking purity of subset\n",
    "            tree[node][value] = clValue[0]                                                    \n",
    "        else:        \n",
    "            tree[node][value] = buildTree(subtable) #Calling the function recursively               \n",
    "    return tree\n",
    "import pandas as pd\n",
    "import numpy as np\n",
    "eps = np.finfo(float).eps\n",
    "from numpy import log2 as log\n",
    "df = pd.read_csv(r\"C:\\Users\\salma\\OneDrive\\Documents\\Id_3_dataset2.csv\")\n",
    "print(\"\\n Given Play Tennis Data Set:\\n\\n\",df)\n",
    "tree= buildTree(df)\n",
    "import pprint\n",
    "pprint.pprint(tree)"
   ]
  },
  {
   "cell_type": "code",
   "execution_count": null,
   "id": "1b88f413",
   "metadata": {},
   "outputs": [],
   "source": []
  },
  {
   "cell_type": "code",
   "execution_count": null,
   "id": "99512786",
   "metadata": {},
   "outputs": [],
   "source": []
  }
 ],
 "metadata": {
  "kernelspec": {
   "display_name": "Python 3",
   "language": "python",
   "name": "python3"
  },
  "language_info": {
   "codemirror_mode": {
    "name": "ipython",
    "version": 3
   },
   "file_extension": ".py",
   "mimetype": "text/x-python",
   "name": "python",
   "nbconvert_exporter": "python",
   "pygments_lexer": "ipython3",
   "version": "3.8.8"
  }
 },
 "nbformat": 4,
 "nbformat_minor": 5
}
