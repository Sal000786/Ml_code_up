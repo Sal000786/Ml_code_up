{
 "cells": [
  {
   "cell_type": "code",
   "execution_count": 5,
   "id": "57c5b43a",
   "metadata": {},
   "outputs": [],
   "source": [
    "import numpy as np"
   ]
  },
  {
   "cell_type": "code",
   "execution_count": 7,
   "id": "bf21832c",
   "metadata": {},
   "outputs": [
    {
     "name": "stdout",
     "output_type": "stream",
     "text": [
      "salman faizi\n"
     ]
    }
   ],
   "source": [
    "print(\"salman faizi\")"
   ]
  },
  {
   "cell_type": "code",
   "execution_count": 9,
   "id": "db0a04f1",
   "metadata": {},
   "outputs": [
    {
     "name": "stdout",
     "output_type": "stream",
     "text": [
      "0\n",
      "1\n",
      "2\n",
      "3\n",
      "4\n",
      "5\n",
      "6\n",
      "7\n",
      "8\n",
      "9\n",
      "10\n",
      "11\n",
      "12\n",
      "13\n",
      "14\n",
      "15\n",
      "16\n",
      "17\n",
      "18\n",
      "19\n"
     ]
    }
   ],
   "source": [
    "for i in range(0,20):\n",
    "    print(i)"
   ]
  },
  {
   "cell_type": "code",
   "execution_count": 11,
   "id": "ec37ff92",
   "metadata": {},
   "outputs": [
    {
     "name": "stdout",
     "output_type": "stream",
     "text": [
      "djflsj\n"
     ]
    }
   ],
   "source": [
    "print(\"djflsj\")"
   ]
  },
  {
   "cell_type": "code",
   "execution_count": 16,
   "id": "d721bbfb",
   "metadata": {},
   "outputs": [
    {
     "name": "stdout",
     "output_type": "stream",
     "text": [
      "[1 2 3 4]\n"
     ]
    }
   ],
   "source": [
    "sal=[1,2,3,4]\n",
    "x=np.array(sal)\n",
    "print(x) "
   ]
  },
  {
   "cell_type": "code",
   "execution_count": 18,
   "id": "bc9b24e7",
   "metadata": {},
   "outputs": [
    {
     "data": {
      "text/plain": [
       "array([21,  2, 25, 41, 65])"
      ]
     },
     "execution_count": 18,
     "metadata": {},
     "output_type": "execute_result"
    }
   ],
   "source": [
    "sal=np.array([21,2,25,41,65])\n",
    "sal"
   ]
  },
  {
   "cell_type": "code",
   "execution_count": null,
   "id": "a95138c6",
   "metadata": {},
   "outputs": [],
   "source": [
    "size=int(input(\"Enter the size of the array\"))\n",
    "sal=[]\n",
    "for i in range(size):\n",
    "    val=int(input(\"Enter values\\n\"))\n",
    "    salman=sal.append(val)\n",
    "print(\"output is =\",sal)"
   ]
  },
  {
   "cell_type": "code",
   "execution_count": null,
   "id": "3d8626a9",
   "metadata": {},
   "outputs": [],
   "source": [
    "a=[[1,2,3],[4,5,6],[7,8,9]]\n",
    "sal=np.array(a)\n",
    "print(sal)"
   ]
  },
  {
   "cell_type": "code",
   "execution_count": null,
   "id": "fd15eca4",
   "metadata": {},
   "outputs": [],
   "source": []
  }
 ],
 "metadata": {
  "kernelspec": {
   "display_name": "Python 3",
   "language": "python",
   "name": "python3"
  },
  "language_info": {
   "codemirror_mode": {
    "name": "ipython",
    "version": 3
   },
   "file_extension": ".py",
   "mimetype": "text/x-python",
   "name": "python",
   "nbconvert_exporter": "python",
   "pygments_lexer": "ipython3",
   "version": "3.8.8"
  }
 },
 "nbformat": 4,
 "nbformat_minor": 5
}
