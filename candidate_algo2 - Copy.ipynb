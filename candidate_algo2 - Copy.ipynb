{
 "cells": [
  {
   "cell_type": "code",
   "execution_count": 1,
   "id": "9b177d5d",
   "metadata": {},
   "outputs": [],
   "source": [
    "import pandas as pd\n",
    "import numpy as np"
   ]
  },
  {
   "cell_type": "code",
   "execution_count": 2,
   "id": "0ff0da6c",
   "metadata": {},
   "outputs": [
    {
     "data": {
      "text/html": [
       "<div>\n",
       "<style scoped>\n",
       "    .dataframe tbody tr th:only-of-type {\n",
       "        vertical-align: middle;\n",
       "    }\n",
       "\n",
       "    .dataframe tbody tr th {\n",
       "        vertical-align: top;\n",
       "    }\n",
       "\n",
       "    .dataframe thead th {\n",
       "        text-align: right;\n",
       "    }\n",
       "</style>\n",
       "<table border=\"1\" class=\"dataframe\">\n",
       "  <thead>\n",
       "    <tr style=\"text-align: right;\">\n",
       "      <th></th>\n",
       "      <th>Sky</th>\n",
       "      <th>AirTemp</th>\n",
       "      <th>Humidity</th>\n",
       "      <th>Wind</th>\n",
       "      <th>Water</th>\n",
       "      <th>Forcast</th>\n",
       "      <th>EnjoySport</th>\n",
       "    </tr>\n",
       "  </thead>\n",
       "  <tbody>\n",
       "    <tr>\n",
       "      <th>0</th>\n",
       "      <td>Sunny</td>\n",
       "      <td>Warm</td>\n",
       "      <td>Normal</td>\n",
       "      <td>Strong</td>\n",
       "      <td>Warm</td>\n",
       "      <td>Same</td>\n",
       "      <td>Yes</td>\n",
       "    </tr>\n",
       "    <tr>\n",
       "      <th>1</th>\n",
       "      <td>Sunny</td>\n",
       "      <td>Warm</td>\n",
       "      <td>High</td>\n",
       "      <td>Strong</td>\n",
       "      <td>Warm</td>\n",
       "      <td>Same</td>\n",
       "      <td>Yes</td>\n",
       "    </tr>\n",
       "    <tr>\n",
       "      <th>2</th>\n",
       "      <td>Rainy</td>\n",
       "      <td>Cold</td>\n",
       "      <td>High</td>\n",
       "      <td>Strong</td>\n",
       "      <td>Warm</td>\n",
       "      <td>Change</td>\n",
       "      <td>No</td>\n",
       "    </tr>\n",
       "    <tr>\n",
       "      <th>3</th>\n",
       "      <td>Sunny</td>\n",
       "      <td>Warm</td>\n",
       "      <td>High</td>\n",
       "      <td>Strong</td>\n",
       "      <td>Cool</td>\n",
       "      <td>Change</td>\n",
       "      <td>Yes</td>\n",
       "    </tr>\n",
       "  </tbody>\n",
       "</table>\n",
       "</div>"
      ],
      "text/plain": [
       "     Sky AirTemp Humidity    Wind Water Forcast EnjoySport\n",
       "0  Sunny    Warm   Normal  Strong  Warm    Same        Yes\n",
       "1  Sunny    Warm     High  Strong  Warm    Same        Yes\n",
       "2  Rainy    Cold     High  Strong  Warm  Change         No\n",
       "3  Sunny    Warm     High  Strong  Cool  Change        Yes"
      ]
     },
     "execution_count": 2,
     "metadata": {},
     "output_type": "execute_result"
    }
   ],
   "source": [
    "concept=pd.read_csv(\"C:\\\\Users\\\\salma\\\\OneDrive\\\\Documents\\\\Data_set2.csv\")\n",
    "concept\n"
   ]
  },
  {
   "cell_type": "code",
   "execution_count": 3,
   "id": "f0bf4809",
   "metadata": {},
   "outputs": [
    {
     "data": {
      "text/plain": [
       "array([['Sunny', 'Warm', 'Normal', 'Strong', 'Warm', 'Same'],\n",
       "       ['Sunny', 'Warm', 'High', 'Strong', 'Warm', 'Same'],\n",
       "       ['Rainy', 'Cold', 'High', 'Strong', 'Warm', 'Change'],\n",
       "       ['Sunny', 'Warm', 'High', 'Strong', 'Cool', 'Change']],\n",
       "      dtype=object)"
      ]
     },
     "execution_count": 3,
     "metadata": {},
     "output_type": "execute_result"
    }
   ],
   "source": [
    "data=np.array(concept)[:,:-1]\n",
    "data"
   ]
  },
  {
   "cell_type": "code",
   "execution_count": 4,
   "id": "8ce72830",
   "metadata": {},
   "outputs": [
    {
     "data": {
      "text/plain": [
       "array(['Yes', 'Yes', 'No', 'Yes'], dtype=object)"
      ]
     },
     "execution_count": 4,
     "metadata": {},
     "output_type": "execute_result"
    }
   ],
   "source": [
    "target=np.array(concept)[:,-1]\n",
    "target"
   ]
  },
  {
   "cell_type": "code",
   "execution_count": 5,
   "id": "60881204",
   "metadata": {},
   "outputs": [
    {
     "name": "stdout",
     "output_type": "stream",
     "text": [
      "General hypothesis is = ['Rainy' 'Cold' 'High' 'Strong' 'Warm' 'Change']\n",
      "temp2 hypothesis is= ['Rainy' 'Cold' 'High' 'Strong' 'Warm' 'Change']\n"
     ]
    }
   ],
   "source": [
    "for i in range(4):\n",
    "#     print(target[i])\n",
    "    if(target[i]==\"Yes\"):\n",
    "        specific_hypo=data[i].copy()\n",
    "#         print(\"specific hypothesis is =\",specific_hypo)\n",
    "        break\n",
    "    else:\n",
    "        pass\n",
    "    \n",
    "    \n",
    "for i in range(4):\n",
    "    if(target[i]==\"No\"):\n",
    "        General_hypo=data[i].copy()\n",
    "        print(\"General hypothesis is =\",General_hypo)\n",
    "        break\n",
    "    else:\n",
    "        pass\n",
    "    \n",
    "    \n",
    "for i in range(4):\n",
    "    if(target[i]==\"Yes\"):\n",
    "            temp=data[i].copy()\n",
    "#             print(\"temp hypothesis is=\",temp)\n",
    "\n",
    "for i in range(4):\n",
    "    if(target[i]==\"No\"):\n",
    "            temp2=data[i].copy()\n",
    "            print(\"temp2 hypothesis is=\",temp2)\n",
    "    \n",
    "        \n",
    "    "
   ]
  },
  {
   "cell_type": "code",
   "execution_count": 6,
   "id": "812b2100",
   "metadata": {},
   "outputs": [
    {
     "name": "stdout",
     "output_type": "stream",
     "text": [
      "specific hypothesis is = ['Sunny' 'Warm' '?' 'Strong' '?' '?']\n"
     ]
    }
   ],
   "source": [
    "for i in range(3):\n",
    "    for j in range(6):\n",
    "        if(specific_hypo[j]!=temp[j]):\n",
    "            temp[j]=\"?\"\n",
    "            \n",
    "        else:\n",
    "            pass\n",
    "        specific_hypo[j]=temp[j]\n",
    "print(\"specific hypothesis is =\",temp)"
   ]
  },
  {
   "cell_type": "code",
   "execution_count": null,
   "id": "4a9006a7",
   "metadata": {},
   "outputs": [],
   "source": []
  },
  {
   "cell_type": "code",
   "execution_count": null,
   "id": "5e23b478",
   "metadata": {},
   "outputs": [],
   "source": []
  }
 ],
 "metadata": {
  "kernelspec": {
   "display_name": "Python 3",
   "language": "python",
   "name": "python3"
  },
  "language_info": {
   "codemirror_mode": {
    "name": "ipython",
    "version": 3
   },
   "file_extension": ".py",
   "mimetype": "text/x-python",
   "name": "python",
   "nbconvert_exporter": "python",
   "pygments_lexer": "ipython3",
   "version": "3.8.8"
  }
 },
 "nbformat": 4,
 "nbformat_minor": 5
}
