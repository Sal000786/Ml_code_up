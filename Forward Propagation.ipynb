{
 "cells": [
  {
   "cell_type": "code",
   "execution_count": 1,
   "id": "5aa6cec3",
   "metadata": {},
   "outputs": [
    {
     "name": "stdout",
     "output_type": "stream",
     "text": [
      "Enter the input values of I10.05\n",
      "value of I1 0.05\n",
      "Enter the input values of I20.10\n",
      "value of I2 0.1\n",
      "Enter the weight w1 0.15\n",
      "Enter the weight w2 0.20\n",
      "Enter the weight w3 0.25\n",
      "Enter the weight w4 0.30\n",
      "Enter the weight w5 0.40\n",
      "Enter the weight w6 0.45\n",
      "Enter the weight w7 0.50\n",
      "Enter the weight w8 0.55\n",
      "Weights are 0.15 0.2 0.25 0.3 0.4 0.45 0.5 0.55\n",
      "Please enter the values for the bias\n",
      "Enter the weight b1 0.35\n",
      "Enter the weight b2 0.60\n",
      "bias values are=  0.35 0.6\n",
      "Expected values please\n",
      "Enter the weight ex1 0.01\n",
      "Enter the weight ex2 0.99\n",
      "expected values are=  0.01 0.99\n",
      "Input of h1\n",
      "input of h1 0.3775\n",
      "output of H1 0.5932699921071872\n",
      "input of h2\n",
      "input of h2 0.39249999999999996\n",
      "output of H2 0.596884378259767\n",
      "input of O1\n",
      "input of O1 1.10590596705977\n",
      "Output of O1 0.7513650695523157\n",
      "input of O2\n",
      "input of O2 1.2249214040964653\n",
      "Output of O2 0.7729284653214625\n",
      "calculating error of O1\n",
      "error of O1 is= 0.274811083176155\n",
      "calculating error of O2\n",
      "error of O2 is= 0.023560025583847746\n",
      "Calculating total erro\n",
      "total error is=  0.2983711087600027\n"
     ]
    }
   ],
   "source": [
    "import math as m\n",
    "I1=float(input(\"Enter the input values of I1\"))\n",
    "print(\"value of I1\",I1)\n",
    "\n",
    "I2=float(input(\"Enter the input values of I2\"))\n",
    "print(\"value of I2\",I2)\n",
    "\n",
    "\n",
    "w1=float(input(\"Enter the weight w1 \"))\n",
    "w2=float(input(\"Enter the weight w2 \"))\n",
    "w3=float(input(\"Enter the weight w3 \"))\n",
    "w4=float(input(\"Enter the weight w4 \"))\n",
    "w5=float(input(\"Enter the weight w5 \"))\n",
    "w6=float(input(\"Enter the weight w6 \"))\n",
    "w7=float(input(\"Enter the weight w7 \"))\n",
    "w8=float(input(\"Enter the weight w8 \"))\n",
    "print(\"Weights are\",w1,w2,w3,w4,w5,w6,w7,w8) \n",
    "\n",
    "print(\"Please enter the values for the bias\")\n",
    "b1=float(input(\"Enter the weight b1 \"))\n",
    "b2=float(input(\"Enter the weight b2 \"))\n",
    "print(\"bias values are= \",b1,b2)\n",
    "\n",
    "\n",
    "print(\"Expected values please\")\n",
    "ex1=float(input(\"Enter the weight ex1 \"))\n",
    "ex2=float(input(\"Enter the weight ex2 \"))\n",
    "print(\"expected values are= \", ex1,ex2)\n",
    "\n",
    "print(\"Input of h1\")\n",
    "\n",
    "inp_h1=(w1*I1)+(w2*I2)+(b1*1)\n",
    "print(\"input of h1\",inp_h1)\n",
    "\n",
    "Out_h1=1/(1+m.exp(-inp_h1))\n",
    "print(\"output of H1\",Out_h1)\n",
    "\n",
    "\n",
    "\n",
    "\n",
    "print(\"input of h2\")\n",
    "\n",
    "inp_h2=(w3*I1)+(w4*I2)+(b1*1)\n",
    "print(\"input of h2\",inp_h2)\n",
    "\n",
    "Out_h2=1/(1+m.exp(-inp_h2))\n",
    "print(\"output of H2\",Out_h2)\n",
    "\n",
    "\n",
    "print(\"input of O1\")\n",
    "\n",
    "inp_O1=(Out_h1*w5)+(Out_h2*w6)+(b2*1)\n",
    "print(\"input of O1\",inp_O1)\n",
    "\n",
    "Out_O1=1/(1+m.exp(-inp_O1))\n",
    "print(\"Output of O1\",Out_O1)\n",
    "\n",
    "\n",
    "print(\"input of O2\")\n",
    "\n",
    "inp_O2=(Out_h1*w7)+(Out_h2*w8)+(b2*1)\n",
    "print(\"input of O2\",inp_O2)\n",
    "\n",
    "Out_O2=1/(1+m.exp(-inp_O2))\n",
    "print(\"Output of O2\",Out_O2)\n",
    "\n",
    "print(\"calculating error of O1\")\n",
    "error_o1=((ex1-Out_O1)*(ex1-Out_O1))/2\n",
    "print(\"error of O1 is=\",error_o1)\n",
    "\n",
    "\n",
    "print(\"calculating error of O2\")\n",
    "error_o2=((ex2-Out_O2)*(ex2-Out_O2))/2\n",
    "print(\"error of O2 is=\",error_o2)\n",
    "\n",
    "print(\"Calculating total erro\")\n",
    "total_error=error_o1+error_o2\n",
    "\n",
    "print(\"total error is= \",total_error)\n",
    "\n",
    "\n",
    "\n",
    "\n"
   ]
  },
  {
   "cell_type": "markdown",
   "id": "0218d21c",
   "metadata": {},
   "source": [
    "# forward Propagation practice"
   ]
  },
  {
   "cell_type": "code",
   "execution_count": 3,
   "id": "3da3c364",
   "metadata": {},
   "outputs": [],
   "source": [
    "import math as m"
   ]
  },
  {
   "cell_type": "code",
   "execution_count": 4,
   "id": "2b0766d0",
   "metadata": {},
   "outputs": [
    {
     "name": "stdout",
     "output_type": "stream",
     "text": [
      "Enter Input I10.05\n",
      "Enter input I20.10\n",
      "Input values are 0.05 0.1\n",
      "\n",
      "\n"
     ]
    }
   ],
   "source": [
    "#input values\n",
    "I1=float(input(\"Enter Input I1\"))\n",
    "I2=float(input(\"Enter input I2\"))\n",
    "print(\"Input values are\",I1,I2)\n",
    "print(\"\\n\")"
   ]
  },
  {
   "cell_type": "code",
   "execution_count": 5,
   "id": "b145910d",
   "metadata": {},
   "outputs": [
    {
     "name": "stdout",
     "output_type": "stream",
     "text": [
      "Enter w10.15\n",
      "Enter w20.20\n",
      "Enter w30.25\n",
      "Enter w40.30\n",
      "Enter w50.40\n",
      "Enter w60.45\n",
      "Enter w70.50\n",
      "Enter w80.55\n",
      "wight are 0.15 0.2 0.25 0.3 0.4 0.4 0.45 0.5 0.55\n"
     ]
    }
   ],
   "source": [
    "#weights\n",
    "\n",
    "w1=float(input(\"Enter w1\"))\n",
    "w2=float(input(\"Enter w2\"))\n",
    "w3=float(input(\"Enter w3\"))\n",
    "w4=float(input(\"Enter w4\"))\n",
    "w5=float(input(\"Enter w5\"))\n",
    "w6=float(input(\"Enter w6\"))\n",
    "w7=float(input(\"Enter w7\"))\n",
    "w8=float(input(\"Enter w8\"))\n",
    "\n",
    "print(\"wight are\",w1,w2,w3,w4,w5,w5,w6,w7,w8)"
   ]
  },
  {
   "cell_type": "code",
   "execution_count": 6,
   "id": "7b03a47f",
   "metadata": {},
   "outputs": [
    {
     "name": "stdout",
     "output_type": "stream",
     "text": [
      "Enter bias vlaue B10.35\n",
      "Enter bias vlaue B20.60\n",
      "bias values are :  0.35 0.6\n"
     ]
    }
   ],
   "source": [
    "# Enter bias values\n",
    "B1=float(input(\"Enter bias vlaue B1\"))\n",
    "B2=float(input(\"Enter bias vlaue B2\"))\n",
    "print(\"bias values are : \",B1,B2)\n"
   ]
  },
  {
   "cell_type": "code",
   "execution_count": 7,
   "id": "33805fdd",
   "metadata": {},
   "outputs": [
    {
     "name": "stdout",
     "output_type": "stream",
     "text": [
      "Enter Expected vlaue E10.01\n",
      "Enter Expected vlaue E20.99\n",
      "Expected values are:  0.01 0.99\n"
     ]
    }
   ],
   "source": [
    "# Enter Expected valus\n",
    "E1=float(input(\"Enter Expected vlaue E1\"))\n",
    "E2=float(input(\"Enter Expected vlaue E2\"))\n",
    "print(\"Expected values are: \",E1,E2)\n"
   ]
  },
  {
   "cell_type": "code",
   "execution_count": 8,
   "id": "9504090d",
   "metadata": {},
   "outputs": [
    {
     "name": "stdout",
     "output_type": "stream",
     "text": [
      "INput at h1 = 0.3775\n",
      "output of H1= 0.5932699921071872\n"
     ]
    }
   ],
   "source": [
    "# Input and output at H1\n",
    "H1=(I1*w1)+(I2*w2)+(B1*1)\n",
    "print(\"INput at h1 =\",H1)\n",
    "H1_out=1/(1+m.exp(-H1))\n",
    "print(\"output of H1=\",H1_out)"
   ]
  },
  {
   "cell_type": "code",
   "execution_count": 9,
   "id": "3a718ea1",
   "metadata": {},
   "outputs": [
    {
     "name": "stdout",
     "output_type": "stream",
     "text": [
      "INput at h2 = 0.39249999999999996\n",
      "output of H2= 0.596884378259767\n"
     ]
    }
   ],
   "source": [
    "# Input and output at H2\n",
    "H2=(I2*w4)+(I1*w3)+(B1*1)\n",
    "print(\"INput at h2 =\",H2)\n",
    "H2_out=1/(1+m.exp(-H2))\n",
    "print(\"output of H2=\",H2_out)"
   ]
  },
  {
   "cell_type": "code",
   "execution_count": 10,
   "id": "ab88f589",
   "metadata": {},
   "outputs": [
    {
     "name": "stdout",
     "output_type": "stream",
     "text": [
      "input at O1= 1.10590596705977\n",
      "output of O1= 0.7513650695523157\n"
     ]
    }
   ],
   "source": [
    "#output and input at O1\n",
    "O1=(H1_out*w5)+(H2_out*w6)+(B2*1)\n",
    "print(\"input at O1=\",O1)\n",
    "O1_out=1/(1+m.exp(-O1))\n",
    "print(\"output of O1=\",O1_out)"
   ]
  },
  {
   "cell_type": "code",
   "execution_count": 11,
   "id": "256027a9",
   "metadata": {},
   "outputs": [
    {
     "name": "stdout",
     "output_type": "stream",
     "text": [
      "input at O2= 1.2249214040964653\n",
      "output of O2= 0.7729284653214625\n"
     ]
    }
   ],
   "source": [
    "#output and input at O2\n",
    "O2=(H1_out*w7)+(H2_out*w8)+(B2*1)\n",
    "print(\"input at O2=\",O2)\n",
    "O2_out=1/(1+m.exp(-O2))\n",
    "print(\"output of O2=\",O2_out)"
   ]
  },
  {
   "cell_type": "code",
   "execution_count": 14,
   "id": "27c7f04d",
   "metadata": {},
   "outputs": [
    {
     "name": "stdout",
     "output_type": "stream",
     "text": [
      "Error 1 0.274811083176155\n",
      "Error 2 0.023560025583847746\n",
      "total erro is = 0.2983711087600027\n"
     ]
    }
   ],
   "source": [
    "#Error at o1\n",
    "error_1=(E1-O1_out)*(E1-O1_out)/2\n",
    "print(\"Error 1\",error_1)\n",
    "#error at o2\n",
    "error_2=(E2-O2_out)*(E2-O2_out)/2\n",
    "print(\"Error 2\",error_2)\n",
    "#total error \n",
    "total_error=(error_1+error_2)\n",
    "print(\"total erro is =\",total_error)"
   ]
  },
  {
   "cell_type": "code",
   "execution_count": null,
   "id": "d6173942",
   "metadata": {},
   "outputs": [],
   "source": []
  },
  {
   "cell_type": "code",
   "execution_count": 2,
   "id": "b452eeea",
   "metadata": {},
   "outputs": [
    {
     "name": "stdout",
     "output_type": "stream",
     "text": [
      "salman\n"
     ]
    }
   ],
   "source": [
    "print('salman')"
   ]
  },
  {
   "cell_type": "code",
   "execution_count": null,
   "id": "12cd71fa",
   "metadata": {},
   "outputs": [],
   "source": []
  }
 ],
 "metadata": {
  "kernelspec": {
   "display_name": "Python 3",
   "language": "python",
   "name": "python3"
  },
  "language_info": {
   "codemirror_mode": {
    "name": "ipython",
    "version": 3
   },
   "file_extension": ".py",
   "mimetype": "text/x-python",
   "name": "python",
   "nbconvert_exporter": "python",
   "pygments_lexer": "ipython3",
   "version": "3.8.8"
  }
 },
 "nbformat": 4,
 "nbformat_minor": 5
}
